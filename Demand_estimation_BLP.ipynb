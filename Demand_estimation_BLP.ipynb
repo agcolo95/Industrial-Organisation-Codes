{
 "cells": [
  {
   "cell_type": "markdown",
   "metadata": {},
   "source": [
    "## Problem set Demand Estimation\n",
    "\n",
    "Agustina Colonna \n",
    "\n",
    "PhD Economics UZH 2021"
   ]
  },
  {
   "cell_type": "code",
   "execution_count": 1,
   "metadata": {},
   "outputs": [],
   "source": [
    "import os\n",
    "import pandas as pd\n",
    "import scipy.sparse as sci\n",
    "import statsmodels.formula.api as smf\n",
    "import numpy as np\n",
    "from scipy.optimize import minimize\n",
    "from scipy.linalg import block_diag\n",
    "from numpy.linalg import inv\n",
    "from linearmodels.iv import IVGMM\n",
    "from linearmodels.iv import IV2SLS\n",
    "import numpy.linalg as lin\n",
    "import matplotlib.pyplot as plt\n",
    "\n",
    "# https://notes.quantecon.org/submission/5b3b1856b9eab00015b89f90"
   ]
  },
  {
   "cell_type": "code",
   "execution_count": 2,
   "metadata": {},
   "outputs": [],
   "source": [
    "os.chdir('/Users/agcolo/Dropbox/PhDCourses_Zurich/Second_year/Empirical_IO/Problem Set Demand')\n",
    "\n",
    "colnames = ['market_id', 'product_id', 'product_ms', 'productatt_1',  'productatt_2',  'productatt_3', 'price', 'costshift_1', 'costshift_2', 'costshift_3', 'group']\n",
    "\n",
    "df = pd.read_csv('Data.csv', names = colnames , header=None)"
   ]
  },
  {
   "cell_type": "code",
   "execution_count": 3,
   "metadata": {},
   "outputs": [],
   "source": [
    "# Create market shares relative to outside good \n",
    "\n",
    "df['totalms'] = df.groupby('market_id').transform('sum')['product_ms']\n",
    "\n",
    "df['product0_ms'] = 1 - df.totalms \n",
    "\n",
    "df = df.assign(log_ms_rel = np.log(df['product_ms'] / df['product0_ms']))"
   ]
  },
  {
   "cell_type": "markdown",
   "metadata": {},
   "source": [
    "## Logit Demand"
   ]
  },
  {
   "cell_type": "code",
   "execution_count": 10,
   "metadata": {},
   "outputs": [
    {
     "data": {
      "text/html": [
       "<table class=\"simpletable\">\n",
       "<caption>OLS Regression Results</caption>\n",
       "<tr>\n",
       "  <th>Dep. Variable:</th>       <td>log_ms_rel</td>    <th>  R-squared:         </th> <td>   0.843</td>\n",
       "</tr>\n",
       "<tr>\n",
       "  <th>Model:</th>                   <td>OLS</td>       <th>  Adj. R-squared:    </th> <td>   0.842</td>\n",
       "</tr>\n",
       "<tr>\n",
       "  <th>Method:</th>             <td>Least Squares</td>  <th>  F-statistic:       </th> <td>   1294.</td>\n",
       "</tr>\n",
       "<tr>\n",
       "  <th>Date:</th>             <td>Mon, 22 Nov 2021</td> <th>  Prob (F-statistic):</th>  <td>  0.00</td> \n",
       "</tr>\n",
       "<tr>\n",
       "  <th>Time:</th>                 <td>20:27:15</td>     <th>  Log-Likelihood:    </th> <td> -1491.9</td>\n",
       "</tr>\n",
       "<tr>\n",
       "  <th>No. Observations:</th>      <td>   970</td>      <th>  AIC:               </th> <td>   2994.</td>\n",
       "</tr>\n",
       "<tr>\n",
       "  <th>Df Residuals:</th>          <td>   965</td>      <th>  BIC:               </th> <td>   3018.</td>\n",
       "</tr>\n",
       "<tr>\n",
       "  <th>Df Model:</th>              <td>     4</td>      <th>                     </th>     <td> </td>   \n",
       "</tr>\n",
       "<tr>\n",
       "  <th>Covariance Type:</th>      <td>nonrobust</td>    <th>                     </th>     <td> </td>   \n",
       "</tr>\n",
       "</table>\n",
       "<table class=\"simpletable\">\n",
       "<tr>\n",
       "        <td></td>          <th>coef</th>     <th>std err</th>      <th>t</th>      <th>P>|t|</th>  <th>[0.025</th>    <th>0.975]</th>  \n",
       "</tr>\n",
       "<tr>\n",
       "  <th>Intercept</th>    <td>    0.9496</td> <td>    0.163</td> <td>    5.818</td> <td> 0.000</td> <td>    0.629</td> <td>    1.270</td>\n",
       "</tr>\n",
       "<tr>\n",
       "  <th>price</th>        <td>   -1.3385</td> <td>    0.028</td> <td>  -47.054</td> <td> 0.000</td> <td>   -1.394</td> <td>   -1.283</td>\n",
       "</tr>\n",
       "<tr>\n",
       "  <th>productatt_1</th> <td>    2.4160</td> <td>    0.045</td> <td>   53.906</td> <td> 0.000</td> <td>    2.328</td> <td>    2.504</td>\n",
       "</tr>\n",
       "<tr>\n",
       "  <th>productatt_2</th> <td>    0.5124</td> <td>    0.045</td> <td>   11.319</td> <td> 0.000</td> <td>    0.424</td> <td>    0.601</td>\n",
       "</tr>\n",
       "<tr>\n",
       "  <th>productatt_3</th> <td>    0.3696</td> <td>    0.043</td> <td>    8.689</td> <td> 0.000</td> <td>    0.286</td> <td>    0.453</td>\n",
       "</tr>\n",
       "</table>\n",
       "<table class=\"simpletable\">\n",
       "<tr>\n",
       "  <th>Omnibus:</th>       <td> 2.031</td> <th>  Durbin-Watson:     </th> <td>   1.837</td>\n",
       "</tr>\n",
       "<tr>\n",
       "  <th>Prob(Omnibus):</th> <td> 0.362</td> <th>  Jarque-Bera (JB):  </th> <td>   2.082</td>\n",
       "</tr>\n",
       "<tr>\n",
       "  <th>Skew:</th>          <td> 0.088</td> <th>  Prob(JB):          </th> <td>   0.353</td>\n",
       "</tr>\n",
       "<tr>\n",
       "  <th>Kurtosis:</th>      <td> 2.857</td> <th>  Cond. No.          </th> <td>    26.7</td>\n",
       "</tr>\n",
       "</table><br/><br/>Notes:<br/>[1] Standard Errors assume that the covariance matrix of the errors is correctly specified."
      ],
      "text/plain": [
       "<class 'statsmodels.iolib.summary.Summary'>\n",
       "\"\"\"\n",
       "                            OLS Regression Results                            \n",
       "==============================================================================\n",
       "Dep. Variable:             log_ms_rel   R-squared:                       0.843\n",
       "Model:                            OLS   Adj. R-squared:                  0.842\n",
       "Method:                 Least Squares   F-statistic:                     1294.\n",
       "Date:                Mon, 22 Nov 2021   Prob (F-statistic):               0.00\n",
       "Time:                        20:27:15   Log-Likelihood:                -1491.9\n",
       "No. Observations:                 970   AIC:                             2994.\n",
       "Df Residuals:                     965   BIC:                             3018.\n",
       "Df Model:                           4                                         \n",
       "Covariance Type:            nonrobust                                         \n",
       "================================================================================\n",
       "                   coef    std err          t      P>|t|      [0.025      0.975]\n",
       "--------------------------------------------------------------------------------\n",
       "Intercept        0.9496      0.163      5.818      0.000       0.629       1.270\n",
       "price           -1.3385      0.028    -47.054      0.000      -1.394      -1.283\n",
       "productatt_1     2.4160      0.045     53.906      0.000       2.328       2.504\n",
       "productatt_2     0.5124      0.045     11.319      0.000       0.424       0.601\n",
       "productatt_3     0.3696      0.043      8.689      0.000       0.286       0.453\n",
       "==============================================================================\n",
       "Omnibus:                        2.031   Durbin-Watson:                   1.837\n",
       "Prob(Omnibus):                  0.362   Jarque-Bera (JB):                2.082\n",
       "Skew:                           0.088   Prob(JB):                        0.353\n",
       "Kurtosis:                       2.857   Cond. No.                         26.7\n",
       "==============================================================================\n",
       "\n",
       "Notes:\n",
       "[1] Standard Errors assume that the covariance matrix of the errors is correctly specified.\n",
       "\"\"\""
      ]
     },
     "execution_count": 10,
     "metadata": {},
     "output_type": "execute_result"
    }
   ],
   "source": [
    "## OLS ###\n",
    "Logit_OLS = smf.ols(' log_ms_rel ~ price + productatt_1 + productatt_2 + productatt_3', data=df)\n",
    "Logit_OLS.fit().summary()"
   ]
  },
  {
   "cell_type": "code",
   "execution_count": 11,
   "metadata": {},
   "outputs": [
    {
     "data": {
      "text/html": [
       "<table class=\"simpletable\">\n",
       "<caption>IV-2SLS Estimation Summary</caption>\n",
       "<tr>\n",
       "  <th>Dep. Variable:</th>       <td>log_ms_rel</td>    <th>  R-squared:         </th> <td>0.8400</td> \n",
       "</tr>\n",
       "<tr>\n",
       "  <th>Estimator:</th>             <td>IV-2SLS</td>     <th>  Adj. R-squared:    </th> <td>0.8393</td> \n",
       "</tr>\n",
       "<tr>\n",
       "  <th>No. Observations:</th>        <td>970</td>       <th>  F-statistic:       </th> <td>3905.7</td> \n",
       "</tr>\n",
       "<tr>\n",
       "  <th>Date:</th>             <td>Mon, Nov 22 2021</td> <th>  P-value (F-stat)   </th> <td>0.0000</td> \n",
       "</tr>\n",
       "<tr>\n",
       "  <th>Time:</th>                 <td>20:27:18</td>     <th>  Distribution:      </th> <td>chi2(4)</td>\n",
       "</tr>\n",
       "<tr>\n",
       "  <th>Cov. Estimator:</th>        <td>robust</td>      <th>                     </th>    <td></td>    \n",
       "</tr>\n",
       "<tr>\n",
       "  <th></th>                          <td></td>         <th>                     </th>    <td></td>    \n",
       "</tr>\n",
       "</table>\n",
       "<table class=\"simpletable\">\n",
       "<caption>Parameter Estimates</caption>\n",
       "<tr>\n",
       "        <td></td>       <th>Parameter</th> <th>Std. Err.</th> <th>T-stat</th>  <th>P-value</th> <th>Lower CI</th> <th>Upper CI</th>\n",
       "</tr>\n",
       "<tr>\n",
       "  <th>Intercept</th>     <td>1.6129</td>    <td>0.2304</td>   <td>7.0003</td>  <td>0.0000</td>   <td>1.1613</td>   <td>2.0644</td> \n",
       "</tr>\n",
       "<tr>\n",
       "  <th>productatt_1</th>  <td>2.4668</td>    <td>0.0478</td>   <td>51.598</td>  <td>0.0000</td>   <td>2.3731</td>   <td>2.5605</td> \n",
       "</tr>\n",
       "<tr>\n",
       "  <th>productatt_2</th>  <td>0.5616</td>    <td>0.0491</td>   <td>11.435</td>  <td>0.0000</td>   <td>0.4653</td>   <td>0.6579</td> \n",
       "</tr>\n",
       "<tr>\n",
       "  <th>productatt_3</th>  <td>0.3725</td>    <td>0.0444</td>   <td>8.3935</td>  <td>0.0000</td>   <td>0.2855</td>   <td>0.4595</td> \n",
       "</tr>\n",
       "<tr>\n",
       "  <th>price</th>         <td>-1.4571</td>   <td>0.0417</td>   <td>-34.962</td> <td>0.0000</td>   <td>-1.5388</td>  <td>-1.3754</td>\n",
       "</tr>\n",
       "</table><br/><br/>Endogenous: price<br/>Instruments: costshift_1, costshift_2, costshift_3<br/>Robust Covariance (Heteroskedastic)<br/>Debiased: False"
      ],
      "text/plain": [
       "<class 'linearmodels.compat.statsmodels.Summary'>\n",
       "\"\"\"\n",
       "                          IV-2SLS Estimation Summary                          \n",
       "==============================================================================\n",
       "Dep. Variable:             log_ms_rel   R-squared:                      0.8400\n",
       "Estimator:                    IV-2SLS   Adj. R-squared:                 0.8393\n",
       "No. Observations:                 970   F-statistic:                    3905.7\n",
       "Date:                Mon, Nov 22 2021   P-value (F-stat)                0.0000\n",
       "Time:                        20:27:18   Distribution:                  chi2(4)\n",
       "Cov. Estimator:                robust                                         \n",
       "                                                                              \n",
       "                              Parameter Estimates                               \n",
       "================================================================================\n",
       "              Parameter  Std. Err.     T-stat    P-value    Lower CI    Upper CI\n",
       "--------------------------------------------------------------------------------\n",
       "Intercept        1.6129     0.2304     7.0003     0.0000      1.1613      2.0644\n",
       "productatt_1     2.4668     0.0478     51.598     0.0000      2.3731      2.5605\n",
       "productatt_2     0.5616     0.0491     11.435     0.0000      0.4653      0.6579\n",
       "productatt_3     0.3725     0.0444     8.3935     0.0000      0.2855      0.4595\n",
       "price           -1.4571     0.0417    -34.962     0.0000     -1.5388     -1.3754\n",
       "================================================================================\n",
       "\n",
       "Endogenous: price\n",
       "Instruments: costshift_1, costshift_2, costshift_3\n",
       "Robust Covariance (Heteroskedastic)\n",
       "Debiased: False\n",
       "\"\"\""
      ]
     },
     "execution_count": 11,
     "metadata": {},
     "output_type": "execute_result"
    }
   ],
   "source": [
    "### IV ###\n",
    "Logit_IV = IV2SLS.from_formula('log_ms_rel ~ 1 + [price ~ costshift_1 + costshift_2 + costshift_3] + productatt_1 + productatt_2 + productatt_3', data=df)\n",
    "res_Logit_IV = Logit_IV.fit()\n",
    "res_Logit_IV.summary #less steep slope. makes sense"
   ]
  },
  {
   "cell_type": "markdown",
   "metadata": {},
   "source": [
    "We see that when computing the demand with IV, the coefficient on price is more elastic (greater in absolute value). This is as expected, because endogenetiy bias in demand estimation results in too inelastic demand curves"
   ]
  },
  {
   "cell_type": "markdown",
   "metadata": {},
   "source": [
    "## Logit elasticities\n",
    "\n",
    "Own price elasticity :\n",
    "\n",
    "$$\n",
    "\n",
    "e_{jj} = \\alpha * p_{jn} * (1- s_{jn})\n",
    "\n",
    "$$\n",
    "\n",
    "Cross price elasticities\n",
    "\n",
    "$$\n",
    "\n",
    "e_{jk} = -  \\alpha * p_{kn} * s_{kn}\n",
    "\n",
    "$$\n",
    "\n"
   ]
  },
  {
   "cell_type": "code",
   "execution_count": 17,
   "metadata": {},
   "outputs": [
    {
     "data": {
      "text/plain": [
       "-7.993711546538995"
      ]
     },
     "execution_count": 17,
     "metadata": {},
     "output_type": "execute_result"
    }
   ],
   "source": [
    "## Elasticities ##\n",
    "results = pd.read_html(res_Logit_IV.summary.tables[1].as_html(),header=0,index_col=0)[0]\n",
    "alpha = results['Parameter'].values[4]\n",
    "\n",
    "# own price elasticities\n",
    "\n",
    "df['e_jj'] = alpha * df.price * (1-df.product_ms)\n",
    "\n",
    "df.groupby('market_id').e_jj.mean() # Mean own price elasticities for each market\n",
    "\n",
    "np.mean(df.e_jj) # mean across all markets\n"
   ]
  },
  {
   "cell_type": "code",
   "execution_count": 23,
   "metadata": {},
   "outputs": [
    {
     "data": {
      "text/plain": [
       "0.13067276570741612"
      ]
     },
     "execution_count": 23,
     "metadata": {},
     "output_type": "execute_result"
    }
   ],
   "source": [
    "# cross product elasticities \n",
    "\n",
    "df['e_jk'] = -alpha * df.price * df.product_ms\n",
    "\n",
    "# Now I calculate the mean across markets. Note that the weights for each cross product elasticity is the size of the market - 1 (because I don't count that same product)\n",
    "\n",
    "sum((df.groupby('market_id').transform('count')['e_jj'] - 1)  * df['e_jk']) / sum((df.groupby('market_id').transform('count')['e_jj'] - 1))"
   ]
  },
  {
   "cell_type": "markdown",
   "metadata": {},
   "source": [
    "## GMM estimation Logit"
   ]
  },
  {
   "cell_type": "code",
   "execution_count": 35,
   "metadata": {},
   "outputs": [],
   "source": [
    "## GMM estimation ##\n",
    "\n",
    "## Function defining GMM moments ##\n",
    "\n",
    "def moments(params, args):\n",
    "\n",
    "    alpha, beta1, beta2, beta3, gamma1, gamma2, gamma3 , delta1, delta2, delta3, k1, k2 = params\n",
    "\n",
    "    beta = np.array([beta1,beta2,beta3])\n",
    "    gamma = np.array([gamma1,gamma2,gamma3])\n",
    "    delta = np.array([delta1,delta2,delta3])\n",
    "\n",
    "    productcat, price, MS, MS_r, costshift , W_hat = args\n",
    "\n",
    "    n_obs = costshift[0].shape[0]\n",
    "\n",
    "    psi = np.array(MS_r - k1 * np.ones(n_obs) - alpha * price - beta.dot(productcat)) # Demand side\n",
    "\n",
    "    omega = np.array(price - k2 * np.ones(n_obs) - gamma.dot(costshift) -  delta.dot(productcat) - 1/(alpha*(MS-1))) # Supply side\n",
    "\n",
    "    instruments = np.concatenate((np.ones(970).reshape(1, 970), productcat, costshift), axis = 0)\n",
    "\n",
    "    instruments_sparse =  block_diag(instruments, instruments) # Multiple GMM estimation, matrix with many zeros\n",
    "\n",
    "    errors = np.array([psi, omega]).reshape(costshift.shape[1]*2,1)\n",
    "\n",
    "    moments = instruments_sparse.dot(errors) # Z'e\n",
    "\n",
    "    return moments "
   ]
  },
  {
   "cell_type": "code",
   "execution_count": 36,
   "metadata": {},
   "outputs": [],
   "source": [
    "# Function defining distance estimator = (Z'e)' W (Z'e)\n",
    "\n",
    "def criterion(params, *args ):\n",
    "\n",
    "    alpha, beta1, beta2, beta3, gamma1, gamma2, gamma3 , delta1, delta2, delta3 , k1, k2 = params\n",
    "\n",
    "    productcat, price, MS, MS_r, costshift, W_hat = args\n",
    "\n",
    "    mom = moments(params, args)\n",
    "    \n",
    "    crit_val = np.dot(np.dot(mom.T, W_hat), mom) \n",
    "    \n",
    "    return crit_val.item()"
   ]
  },
  {
   "cell_type": "code",
   "execution_count": 37,
   "metadata": {},
   "outputs": [],
   "source": [
    "# Define inputs for function #\n",
    "\n",
    "alpha = -1.35\n",
    "beta1 = 2\n",
    "beta2 = 1.5\n",
    "beta3 = 1\n",
    "gamma1 = 1\n",
    "gamma2 = 2\n",
    "gamma3 = 1\n",
    "delta1 = 0.5\n",
    "delta2 = 1\n",
    "delta3 = 1 \n",
    "k1 = 1\n",
    "k2 = 1\n",
    "\n",
    "productcat = np.array([df.productatt_1, df.productatt_2, df.productatt_3])\n",
    "costshift = np.array([df.costshift_1, df.costshift_2, df.costshift_3])\n",
    "\n",
    "price = df.price\n",
    "MS = df.product_ms\n",
    "MS_r = df.log_ms_rel"
   ]
  },
  {
   "cell_type": "code",
   "execution_count": 38,
   "metadata": {},
   "outputs": [],
   "source": [
    "# Starting values \n",
    "\n",
    "my_start = np.array([alpha, beta1, beta2, beta3, gamma1, gamma2, gamma3 , delta1, delta2, delta3, k1, k2])\n",
    "\n",
    "W_hat = np.identity(14) ## Identity weighting matrix for first iteration\n",
    "\n",
    "otherargs = (productcat, price, MS, MS_r, costshift, W_hat)\n"
   ]
  },
  {
   "cell_type": "code",
   "execution_count": 39,
   "metadata": {},
   "outputs": [],
   "source": [
    "# First minimization with W = Identity\n",
    "\n",
    "res = minimize(criterion, \n",
    "        my_start, \n",
    "        args = (otherargs) , \n",
    "        method = 'BFGS',\n",
    "        tol = 500) \n"
   ]
  },
  {
   "cell_type": "code",
   "execution_count": 40,
   "metadata": {},
   "outputs": [
    {
     "name": "stdout",
     "output_type": "stream",
     "text": [
      "[-1.45160605  2.45499648  0.54291759  0.38612982  0.46669028  0.49504124\n",
      "  0.45636169  0.04727386  0.05279015  0.0149131   1.58259735  4.91409038]\n",
      "403.4760162079264\n"
     ]
    }
   ],
   "source": [
    "print(res.x)\n",
    "print(res.fun)\n",
    "\n",
    "# printing in order: alpha, beta1, beta2, beta3, gamma1, gamma2, gamma3 , delta1, delta2, delta3, k1, k2"
   ]
  },
  {
   "cell_type": "code",
   "execution_count": 41,
   "metadata": {},
   "outputs": [],
   "source": [
    "# Second step with W = Optimal weighting matrix\n",
    "\n",
    "my_end = res.x\n",
    "\n",
    "ZE = moments(res.x, otherargs)\n",
    "\n",
    "W_hat = lin.pinv(ZE.dot(ZE.T)) # optimal weighting matrix\n",
    "\n",
    "otherargs = (productcat, price, MS, MS_r, costshift, W_hat)"
   ]
  },
  {
   "cell_type": "code",
   "execution_count": 42,
   "metadata": {},
   "outputs": [],
   "source": [
    "res2 = minimize(criterion, \n",
    "        my_end, \n",
    "        args = (otherargs) , \n",
    "        method = 'BFGS',\n",
    "        tol = 1) "
   ]
  },
  {
   "cell_type": "code",
   "execution_count": 43,
   "metadata": {},
   "outputs": [
    {
     "name": "stdout",
     "output_type": "stream",
     "text": [
      "[-1.45160605  2.45499648  0.54291759  0.38612982  0.46669028  0.49504124\n",
      "  0.45636169  0.04727386  0.05279015  0.0149131   1.58259735  4.91409038]\n",
      "0.9999999999999996\n"
     ]
    }
   ],
   "source": [
    "print(res2.x)\n",
    "print(res2.fun) # much smaller value! great!\n",
    "\n",
    "# printing in order: alpha, beta1, beta2, beta3, gamma1, gamma2, gamma3 , delta1, delta2, delta3, k1, k2\n",
    "\n",
    "# I could continue iterating over W to get smaller values of the objective function but parameters seem already quite stable"
   ]
  },
  {
   "cell_type": "code",
   "execution_count": 44,
   "metadata": {},
   "outputs": [
    {
     "data": {
      "text/plain": [
       "{'alpha': -1.4516060502656292,\n",
       " 'Beta1': 2.454996476088575,\n",
       " 'Beta2': 0.5429175918961844,\n",
       " 'Beta3': 0.386129815993271,\n",
       " 'Gamma1': 0.46669028156590037,\n",
       " 'Gamma2': 0.4950412449296972,\n",
       " 'Gamma3': 0.4563616869681366,\n",
       " 'Delta1': 0.04727385984170451,\n",
       " 'Delta2': 0.05279015207997826,\n",
       " 'Delta3': 0.01491310388559585,\n",
       " 'K1': 1.5825973538908868,\n",
       " 'K2': 4.914090376735372}"
      ]
     },
     "execution_count": 44,
     "metadata": {},
     "output_type": "execute_result"
    }
   ],
   "source": [
    "# GMM results\n",
    "\n",
    "{'alpha': res2.x[0],\n",
    "'Beta1': res2.x[1],\n",
    "'Beta2': res2.x[2],\n",
    "'Beta3': res2.x[3],\n",
    "'Gamma1':res2.x[4],\n",
    "'Gamma2': res2.x[5],\n",
    "'Gamma3': res2.x[6],\n",
    "'Delta1': res2.x[7],\n",
    "'Delta2': res2.x[8],\n",
    "'Delta3': res2.x[9],\n",
    "'K1': res2.x[10],\n",
    "'K2': res2.x[11]}"
   ]
  },
  {
   "cell_type": "markdown",
   "metadata": {},
   "source": [
    "We see that the coefficient on price (alpha) and the coefficients on product categories are all very similar to the IV estimation without taking into account the supply side."
   ]
  },
  {
   "cell_type": "markdown",
   "metadata": {},
   "source": [
    "## Merger problem"
   ]
  },
  {
   "cell_type": "markdown",
   "metadata": {},
   "source": [
    "Now for the merged firms (i,j) the price equation will be: \n",
    "$$\n",
    " p_{in} = mc_{in} - \\frac{1}{\\alpha(1-s_{in} - s_{jn})} = w_{in}'\\gamma + x_{jn}'\\delta - \\frac{1}{\\alpha(1-s_{in} - s_{jn})}  + \\omega_{jn}\n",
    " $$\n",
    " While for the rest of the firms in the market it will be:\n",
    " $$\n",
    " p_{in} = mc_{in} - \\frac{1}{\\alpha(1-s_{in} )} = w_{in}'\\gamma + x_{jn}'\\delta - \\frac{1}{\\alpha(1-s_{in})}  + \\omega_{jn}\n",
    " $$\n",
    " The demand equation is the same as before:\n",
    " $$ log(\\frac{s_{jn}}{s_{0n}}) = \\alpha p_{jn} + x_{jn} \\beta + \\xi_{jn}$$\n",
    "\n",
    " Now the idea is to iteratively solve those two equations using the estimate for $\\alpha, \\beta, \\gamma$ estimated previously while setting the error terms $\\epsilon_{n} \\text{ and } \\xi_{kn}$ to zero:\n",
    "+ Start with curret prices and calculate $s_{jn}$.\n",
    "+ Plug $s_{jn}$ into supply equation and get price vector $p_n$.\n",
    "+ Repeat until previous and new values differ only by $10^{-3}$"
   ]
  },
  {
   "cell_type": "code",
   "execution_count": 34,
   "metadata": {},
   "outputs": [],
   "source": [
    "# Identify two largest firms in each market\n",
    "\n",
    "df_grouped = df.groupby('market_id')\n",
    "df['highest_ms'] = df_grouped.transform(lambda x: x.nlargest(1).min())['product_ms']\n",
    "df['second_highest_ms'] = df_grouped.transform(lambda x: x.nlargest(2).min())['product_ms']\n",
    "\n",
    "# great dummies = 1 if the firm is one of the merged firms, also dummies for biggest and second biggest firm\n",
    "\n",
    "df['merged_firm'] = np.where((df['product_ms']== df['highest_ms']) | (df['product_ms'] == df['second_highest_ms']), 1, 0)\n",
    "\n",
    "df['highest_firm'] = np.where((df['product_ms']== df['highest_ms']), 1, 0)\n",
    "df['second_highest_firm'] = np.where((df['product_ms'] == df['second_highest_ms']), 1, 0)"
   ]
  },
  {
   "cell_type": "code",
   "execution_count": 35,
   "metadata": {},
   "outputs": [],
   "source": [
    "# Starting values are the results of the logit\n",
    "\n",
    "alpha = res2.x[0]\n",
    "beta1= res2.x[1]\n",
    "beta2 = res2.x[2]\n",
    "beta3 = res2.x[3]\n",
    "gamma = res2.x[4:7]\n",
    "delta = res2.x[7:10]\n",
    "k1 = res2.x[10]\n",
    "k2 = res2.x[11]\n",
    "productcat = np.array([df.productatt_1, df.productatt_2, df.productatt_3])\n",
    "costshift = np.array([df.costshift_1, df.costshift_2, df.costshift_3])\n",
    "n_obs = costshift[0].shape[0]\n"
   ]
  },
  {
   "cell_type": "code",
   "execution_count": 48,
   "metadata": {},
   "outputs": [],
   "source": [
    "## I compute initial market shares and mg costs\n",
    "\n",
    "df['EXP'] = np.exp( k1  + alpha * df.price + beta1 * df['productatt_1'] + beta2 * df['productatt_2'] + beta3 *df['productatt_3']) # Exponential for probit\n",
    "df['sumEXP'] = df.groupby('market_id').transform('sum')['EXP']\n",
    "df['share_pre'] = df['EXP'] / (1 + df['sumEXP']) # market share using demand equation\n",
    "\n",
    "\n",
    "MC = df['price'] + 1/(alpha*(1-df['share_pre'])) # MC using supply equation\n"
   ]
  },
  {
   "cell_type": "code",
   "execution_count": 37,
   "metadata": {},
   "outputs": [],
   "source": [
    "price_iter = df.price\n",
    "difference2 = 1\n",
    "convergence = 1"
   ]
  },
  {
   "cell_type": "code",
   "execution_count": 38,
   "metadata": {},
   "outputs": [],
   "source": [
    "# I keep the parameters fixed and solve for markets shares and prices to equate supply side and demand side\n",
    "while convergence >= 1e-10 :\n",
    "\n",
    "    differencepre = difference2\n",
    "\n",
    "    price_d = price_iter\n",
    "\n",
    "    # Demand side\n",
    "\n",
    "    df['EXP'] = np.exp(k1 + alpha * price_d + beta1 * df['productatt_1'] + beta2 * df['productatt_2'] + beta3 *df['productatt_3'])\n",
    "    df['sumEXP_'] = df.groupby('market_id').transform('sum')['EXP']\n",
    "    df['MS_d'] = df['EXP'] / (1 + df['sumEXP_']) # market share using demand equation logit\n",
    "\n",
    "    # Calculate new denominator for price equation\n",
    "\n",
    "    ## first need to compute market shares of merged firms\n",
    "\n",
    "    df['highest_ms2'] = np.where((df['highest_firm']== 1), df['MS_d'], 0) # MS of largest firm\n",
    "    df['second_highest_ms2'] = np.where((df['second_highest_firm']== 1), df['MS_d'], 0) # MS of second largest firm\n",
    "\n",
    "    df_grouped = df.groupby('market_id')\n",
    "\n",
    "    df['highest_ms'] = df_grouped.transform('sum')['highest_ms2'] # one column for ms of largest firm in each market\n",
    "    df['second_highest_ms'] = df_grouped.transform('sum')['second_highest_ms2']\n",
    "\n",
    "    ## denominator of price equation --> 1-si for unmerged firms and 1-si-sj for merged firms\n",
    "\n",
    "    DENOM = 1 - df['MS_d'] - df['highest_firm']*df['second_highest_ms'] - df['second_highest_firm']*df['highest_ms']\n",
    "\n",
    "    # Supply side\n",
    "\n",
    "    price_iter = MC - (alpha*(DENOM))**(-1)\n",
    "\n",
    "    # Difference between demand and supply prices (euclidean distance)\n",
    "\n",
    "    difference2 = (price_d - price_iter).T.dot((price_d - price_iter))\n",
    "\n",
    "    # difference between the difference in the last step and the difference in this step\n",
    "\n",
    "    convergence = abs(differencepre - difference2)\n",
    "\n"
   ]
  },
  {
   "cell_type": "code",
   "execution_count": 39,
   "metadata": {},
   "outputs": [
    {
     "data": {
      "text/plain": [
       "9.85682646614805e-11"
      ]
     },
     "execution_count": 39,
     "metadata": {},
     "output_type": "execute_result"
    }
   ],
   "source": [
    "convergence"
   ]
  },
  {
   "cell_type": "code",
   "execution_count": 40,
   "metadata": {},
   "outputs": [],
   "source": [
    "# Now we compare pre and post merger\n",
    "\n",
    "df['price_diff'] = (price_iter - df.price ) / df.price\n",
    "\n",
    "df['MS_diff'] = (df.MS_d - df.share_pre) / df.share_pre"
   ]
  },
  {
   "cell_type": "code",
   "execution_count": 41,
   "metadata": {},
   "outputs": [],
   "source": [
    "largest = df.loc[(df.highest_firm == 1)]\n",
    "largest2 = df.loc[(df.second_highest_firm == 1)]"
   ]
  },
  {
   "cell_type": "markdown",
   "metadata": {},
   "source": [
    "Plotting change in price and market share for merged firms"
   ]
  },
  {
   "cell_type": "code",
   "execution_count": 47,
   "metadata": {},
   "outputs": [
    {
     "data": {
      "image/png": "[encoded data removed]",
      "text/plain": [
       "<Figure size 432x288 with 1 Axes>"
      ]
     },
     "metadata": {
      "needs_background": "light"
     },
     "output_type": "display_data"
    }
   ],
   "source": [
    "fig,ax = plt.subplots()\n",
    "\n",
    "plt.scatter(largest2['price_diff'], largest2['MS_diff'], c='red', label='2nd highest MS')\n",
    "plt.scatter(largest['price_diff'], largest['MS_diff'], c='blue', label='Highest MS')\n",
    "\n",
    "plt.legend()\n",
    "\n",
    "plt.show()"
   ]
  },
  {
   "cell_type": "markdown",
   "metadata": {},
   "source": [
    "We see that for most of the merged firms, prices slightly increased and market shares slightly decreased. Note that most of the firms are very concentrated near zero indicating that prices and market shares barely changed. This may be because of the logit demand assumption, where all goods are equally substituable across eachother "
   ]
  },
  {
   "cell_type": "markdown",
   "metadata": {},
   "source": [
    "Plotting change in price and market share for unmerged firms:"
   ]
  },
  {
   "cell_type": "code",
   "execution_count": 48,
   "metadata": {},
   "outputs": [
    {
     "name": "stderr",
     "output_type": "stream",
     "text": [
      "No handles with labels found to put in legend.\n"
     ]
    },
    {
     "data": {
      "image/png": "[encoded data removed]",
      "text/plain": [
       "<Figure size 432x288 with 1 Axes>"
      ]
     },
     "metadata": {
      "needs_background": "light"
     },
     "output_type": "display_data"
    }
   ],
   "source": [
    "smaller = df.loc[(df.highest_firm != 1) & (df.second_highest_firm!=1)]\n",
    "\n",
    "fig,ax = plt.subplots()\n",
    "\n",
    "plt.scatter(smaller['price_diff'], smaller['MS_diff'], c='red')\n",
    "\n",
    "plt.legend()\n",
    "\n",
    "plt.show()"
   ]
  },
  {
   "cell_type": "markdown",
   "metadata": {},
   "source": [
    "## Nested Logit\n",
    "\n",
    "$$ log(\\frac{s_{jn}}{s_{0n}}) = \\alpha p_{jn} + x_{jn}\\beta + \\sigma log(\\frac{s_{jn}}{s_{gn}}) + \\xi_{jn} = \\delta_{jn} + \\sigma log(\\frac{s_{jn}}{s_{gn}})$$ "
   ]
  },
  {
   "cell_type": "code",
   "execution_count": 49,
   "metadata": {},
   "outputs": [],
   "source": [
    "# calculate group share\n",
    "\n",
    "df['groupshare'] = df.groupby(['group', 'market_id']).transform('sum')['product_ms']\n",
    "\n",
    "df['relative_grp_ms'] = np.log(df.product_ms / df.groupshare)"
   ]
  },
  {
   "cell_type": "code",
   "execution_count": 50,
   "metadata": {},
   "outputs": [],
   "source": [
    "Nest_Logit_GMM = IVGMM.from_formula('log_ms_rel ~ 1 + [price + relative_grp_ms ~ costshift_1 + costshift_2 + costshift_3] + productatt_1 + productatt_2 + productatt_3', data=df)\n",
    "\n",
    "res_NestLogit_GMM = Nest_Logit_GMM.fit()"
   ]
  },
  {
   "cell_type": "code",
   "execution_count": 308,
   "metadata": {},
   "outputs": [
    {
     "data": {
      "text/html": [
       "<table class=\"simpletable\">\n",
       "<caption>IV-GMM Estimation Summary</caption>\n",
       "<tr>\n",
       "  <th>Dep. Variable:</th>       <td>log_ms_rel</td>    <th>  R-squared:         </th> <td>0.8998</td> \n",
       "</tr>\n",
       "<tr>\n",
       "  <th>Estimator:</th>             <td>IV-GMM</td>      <th>  Adj. R-squared:    </th> <td>0.8993</td> \n",
       "</tr>\n",
       "<tr>\n",
       "  <th>No. Observations:</th>        <td>970</td>       <th>  F-statistic:       </th> <td>6272.3</td> \n",
       "</tr>\n",
       "<tr>\n",
       "  <th>Date:</th>             <td>Mon, Nov 22 2021</td> <th>  P-value (F-stat)   </th> <td>0.0000</td> \n",
       "</tr>\n",
       "<tr>\n",
       "  <th>Time:</th>                 <td>20:50:48</td>     <th>  Distribution:      </th> <td>chi2(5)</td>\n",
       "</tr>\n",
       "<tr>\n",
       "  <th>Cov. Estimator:</th>        <td>robust</td>      <th>                     </th>    <td></td>    \n",
       "</tr>\n",
       "<tr>\n",
       "  <th></th>                          <td></td>         <th>                     </th>    <td></td>    \n",
       "</tr>\n",
       "</table>\n",
       "<table class=\"simpletable\">\n",
       "<caption>Parameter Estimates</caption>\n",
       "<tr>\n",
       "         <td></td>         <th>Parameter</th> <th>Std. Err.</th> <th>T-stat</th>  <th>P-value</th> <th>Lower CI</th> <th>Upper CI</th>\n",
       "</tr>\n",
       "<tr>\n",
       "  <th>Intercept</th>        <td>0.3822</td>    <td>0.9661</td>   <td>0.3956</td>  <td>0.6924</td>   <td>-1.5112</td>  <td>2.2757</td> \n",
       "</tr>\n",
       "<tr>\n",
       "  <th>productatt_1</th>     <td>2.2253</td>    <td>0.1872</td>   <td>11.890</td>  <td>0.0000</td>   <td>1.8584</td>   <td>2.5921</td> \n",
       "</tr>\n",
       "<tr>\n",
       "  <th>productatt_2</th>     <td>0.3788</td>    <td>0.1441</td>   <td>2.6286</td>  <td>0.0086</td>   <td>0.0964</td>   <td>0.6612</td> \n",
       "</tr>\n",
       "<tr>\n",
       "  <th>productatt_3</th>     <td>0.2909</td>    <td>0.0744</td>   <td>3.9078</td>  <td>0.0001</td>   <td>0.1450</td>   <td>0.4369</td> \n",
       "</tr>\n",
       "<tr>\n",
       "  <th>price</th>            <td>-1.0505</td>   <td>0.3159</td>   <td>-3.3254</td> <td>0.0009</td>   <td>-1.6696</td>  <td>-0.4313</td>\n",
       "</tr>\n",
       "<tr>\n",
       "  <th>relative_grp_ms</th>  <td>0.2923</td>    <td>0.2268</td>   <td>1.2887</td>  <td>0.1975</td>   <td>-0.1522</td>  <td>0.7368</td> \n",
       "</tr>\n",
       "</table><br/><br/>Endogenous: price, relative_grp_ms<br/>Instruments: costshift_1, costshift_2, costshift_3<br/>GMM Covariance<br/>Debiased: False<br/>Robust (Heteroskedastic)"
      ],
      "text/plain": [
       "<class 'linearmodels.compat.statsmodels.Summary'>\n",
       "\"\"\"\n",
       "                          IV-GMM Estimation Summary                           \n",
       "==============================================================================\n",
       "Dep. Variable:             log_ms_rel   R-squared:                      0.8998\n",
       "Estimator:                     IV-GMM   Adj. R-squared:                 0.8993\n",
       "No. Observations:                 970   F-statistic:                    6272.3\n",
       "Date:                Mon, Nov 22 2021   P-value (F-stat)                0.0000\n",
       "Time:                        20:50:48   Distribution:                  chi2(5)\n",
       "Cov. Estimator:                robust                                         \n",
       "                                                                              \n",
       "                                Parameter Estimates                                \n",
       "===================================================================================\n",
       "                 Parameter  Std. Err.     T-stat    P-value    Lower CI    Upper CI\n",
       "-----------------------------------------------------------------------------------\n",
       "Intercept           0.3822     0.9661     0.3956     0.6924     -1.5112      2.2757\n",
       "productatt_1        2.2253     0.1872     11.890     0.0000      1.8584      2.5921\n",
       "productatt_2        0.3788     0.1441     2.6286     0.0086      0.0964      0.6612\n",
       "productatt_3        0.2909     0.0744     3.9078     0.0001      0.1450      0.4369\n",
       "price              -1.0505     0.3159    -3.3254     0.0009     -1.6696     -0.4313\n",
       "relative_grp_ms     0.2923     0.2268     1.2887     0.1975     -0.1522      0.7368\n",
       "===================================================================================\n",
       "\n",
       "Endogenous: price, relative_grp_ms\n",
       "Instruments: costshift_1, costshift_2, costshift_3\n",
       "GMM Covariance\n",
       "Debiased: False\n",
       "Robust (Heteroskedastic)\n",
       "\"\"\""
      ]
     },
     "execution_count": 308,
     "metadata": {},
     "output_type": "execute_result"
    }
   ],
   "source": [
    "res_NestLogit_GMM.summary"
   ]
  },
  {
   "cell_type": "markdown",
   "metadata": {},
   "source": [
    "Here we see that the coefficient on price is lower in absolute value, i.e. a more inelastic demand function. \n",
    "\n",
    "Recall that sigma measure the correlation in tastes across products within a group. Here we see that sigma is approximately 0.3 indicating that the correlation in tastes within a group is not too strong."
   ]
  },
  {
   "cell_type": "markdown",
   "metadata": {},
   "source": [
    "## Elasticities nested logit\n",
    "\n",
    "Own price elasticities:\n",
    "\n",
    "$$\n",
    "e_{jj} = \\frac{\\alpha p_{jn}}{1-\\sigma}(1 - \\sigma s_{j|g,n} - (1-\\sigma) s_{jn})\n",
    "$$\n",
    "\n",
    "\n",
    "For products in same nest:\n",
    "\n",
    "$$\n",
    "e_{jk} = \\frac{\\alpha p_{kn}}{1-\\sigma}(1 - \\sigma s_{k|g,n} - (1-\\sigma) s_{kn})\n",
    "$$ \n",
    "\n",
    "\\\n",
    "For product in different nests:\n",
    "\n",
    "$$\n",
    "\n",
    "e_{jk} = -\\alpha p_{kn} s_{kn}"
   ]
  },
  {
   "cell_type": "code",
   "execution_count": 52,
   "metadata": {},
   "outputs": [
    {
     "data": {
      "text/html": [
       "<div>\n",
       "<style scoped>\n",
       "    .dataframe tbody tr th:only-of-type {\n",
       "        vertical-align: middle;\n",
       "    }\n",
       "\n",
       "    .dataframe tbody tr th {\n",
       "        vertical-align: top;\n",
       "    }\n",
       "\n",
       "    .dataframe thead th {\n",
       "        text-align: right;\n",
       "    }\n",
       "</style>\n",
       "<table border=\"1\" class=\"dataframe\">\n",
       "  <thead>\n",
       "    <tr style=\"text-align: right;\">\n",
       "      <th></th>\n",
       "      <th>Parameter</th>\n",
       "      <th>Std. Err.</th>\n",
       "      <th>T-stat</th>\n",
       "      <th>P-value</th>\n",
       "      <th>Lower CI</th>\n",
       "      <th>Upper CI</th>\n",
       "    </tr>\n",
       "  </thead>\n",
       "  <tbody>\n",
       "    <tr>\n",
       "      <th>Intercept</th>\n",
       "      <td>0.3822</td>\n",
       "      <td>0.9661</td>\n",
       "      <td>0.3956</td>\n",
       "      <td>0.6924</td>\n",
       "      <td>-1.5112</td>\n",
       "      <td>2.2757</td>\n",
       "    </tr>\n",
       "    <tr>\n",
       "      <th>productatt_1</th>\n",
       "      <td>2.2253</td>\n",
       "      <td>0.1872</td>\n",
       "      <td>11.8900</td>\n",
       "      <td>0.0000</td>\n",
       "      <td>1.8584</td>\n",
       "      <td>2.5921</td>\n",
       "    </tr>\n",
       "    <tr>\n",
       "      <th>productatt_2</th>\n",
       "      <td>0.3788</td>\n",
       "      <td>0.1441</td>\n",
       "      <td>2.6286</td>\n",
       "      <td>0.0086</td>\n",
       "      <td>0.0964</td>\n",
       "      <td>0.6612</td>\n",
       "    </tr>\n",
       "    <tr>\n",
       "      <th>productatt_3</th>\n",
       "      <td>0.2909</td>\n",
       "      <td>0.0744</td>\n",
       "      <td>3.9078</td>\n",
       "      <td>0.0001</td>\n",
       "      <td>0.1450</td>\n",
       "      <td>0.4369</td>\n",
       "    </tr>\n",
       "    <tr>\n",
       "      <th>price</th>\n",
       "      <td>-1.0505</td>\n",
       "      <td>0.3159</td>\n",
       "      <td>-3.3254</td>\n",
       "      <td>0.0009</td>\n",
       "      <td>-1.6696</td>\n",
       "      <td>-0.4313</td>\n",
       "    </tr>\n",
       "    <tr>\n",
       "      <th>relative_grp_ms</th>\n",
       "      <td>0.2923</td>\n",
       "      <td>0.2268</td>\n",
       "      <td>1.2887</td>\n",
       "      <td>0.1975</td>\n",
       "      <td>-0.1522</td>\n",
       "      <td>0.7368</td>\n",
       "    </tr>\n",
       "  </tbody>\n",
       "</table>\n",
       "</div>"
      ],
      "text/plain": [
       "                 Parameter  Std. Err.   T-stat  P-value  Lower CI  Upper CI\n",
       "Intercept           0.3822     0.9661   0.3956   0.6924   -1.5112    2.2757\n",
       "productatt_1        2.2253     0.1872  11.8900   0.0000    1.8584    2.5921\n",
       "productatt_2        0.3788     0.1441   2.6286   0.0086    0.0964    0.6612\n",
       "productatt_3        0.2909     0.0744   3.9078   0.0001    0.1450    0.4369\n",
       "price              -1.0505     0.3159  -3.3254   0.0009   -1.6696   -0.4313\n",
       "relative_grp_ms     0.2923     0.2268   1.2887   0.1975   -0.1522    0.7368"
      ]
     },
     "execution_count": 52,
     "metadata": {},
     "output_type": "execute_result"
    }
   ],
   "source": [
    "# Elasticities\n",
    "\n",
    "# Calculate the mean across markets of own and cross price elasticities.\n",
    "\n",
    "results = pd.read_html(res_NestLogit_GMM.summary.tables[1].as_html(),header=0,index_col=0)[0]\n",
    "\n",
    "results\n"
   ]
  },
  {
   "cell_type": "code",
   "execution_count": 79,
   "metadata": {},
   "outputs": [],
   "source": [
    "alpha = results['Parameter'].values[4]\n",
    "sigma = results['Parameter'].values[5]\n"
   ]
  },
  {
   "cell_type": "code",
   "execution_count": 80,
   "metadata": {},
   "outputs": [
    {
     "data": {
      "text/plain": [
       "-7.876126607393617"
      ]
     },
     "execution_count": 80,
     "metadata": {},
     "output_type": "execute_result"
    }
   ],
   "source": [
    "# own price elasticities\n",
    "\n",
    "df['own_elast'] = alpha*df.price/(1-sigma) * (1 - sigma *(df['product_ms'] / df['groupshare']) - (1-sigma) * df['product_ms'])\n",
    "\n",
    "# mean of own price elasticity\n",
    "\n",
    "np.mean(df['own_elast'])"
   ]
  },
  {
   "cell_type": "code",
   "execution_count": null,
   "metadata": {},
   "outputs": [],
   "source": [
    "# cross elasticities\n",
    "\n",
    "# for products in the same group it's different than for products in different groups\n",
    "# So we have to calculate (the total elasticities):"
   ]
  },
  {
   "cell_type": "markdown",
   "metadata": {},
   "source": [
    "$$ \\sum _{groups}  \\sum _{products\\_grp} (CrossSameGroup * (Ngroup - 1)) + \\sum_{products} CrossDifferentGroups * (N-Ngroup) $$\n",
    "\n",
    "$$ \\sum_{products} [CrossSameGroup * (Ngroup - 1) + CrossDifferentGroups * (Nmarket-Ngroup) ] $$"
   ]
  },
  {
   "cell_type": "code",
   "execution_count": 81,
   "metadata": {},
   "outputs": [],
   "source": [
    "df['CrossDiffG'] = -alpha * df['price'] * df['product_ms']\n",
    "\n",
    "df['CrossSameG'] =  - alpha * df.price/(1-sigma) * (sigma *(df['product_ms'] / df['groupshare']) + (1-sigma) * df['product_ms'])\n",
    "\n",
    "df['Ngroup'] = df.groupby(['group', 'market_id']).transform('count')['product_ms']\n",
    "\n",
    "df['Nmarket'] = df.groupby(['market_id']).transform('count')['product_ms']"
   ]
  },
  {
   "cell_type": "code",
   "execution_count": 82,
   "metadata": {},
   "outputs": [
    {
     "data": {
      "text/plain": [
       "0.1826165330031003"
      ]
     },
     "execution_count": 82,
     "metadata": {},
     "output_type": "execute_result"
    }
   ],
   "source": [
    "# mean cross elasticities across all goods\n",
    "( sum(df['CrossSameG'] * (df['Ngroup']-1) + df['CrossDiffG'] * (df['Nmarket'] - df['Ngroup']))) / sum(df['Nmarket'] -1)\n"
   ]
  },
  {
   "cell_type": "code",
   "execution_count": 83,
   "metadata": {},
   "outputs": [
    {
     "data": {
      "text/plain": [
       "0.35357156135623197"
      ]
     },
     "execution_count": 83,
     "metadata": {},
     "output_type": "execute_result"
    }
   ],
   "source": [
    "# mean within group elasticities\n",
    "\n",
    "(sum(df['CrossSameG'] * (df['Ngroup']-1) )) / sum(df['Ngroup']- 1)"
   ]
  },
  {
   "cell_type": "code",
   "execution_count": 84,
   "metadata": {},
   "outputs": [
    {
     "data": {
      "text/plain": [
       "0.09588551763000888"
      ]
     },
     "execution_count": 84,
     "metadata": {},
     "output_type": "execute_result"
    }
   ],
   "source": [
    "# mean across group elasticities\n",
    "\n",
    "(sum(df['CrossDiffG'] * (df['Nmarket'] - df['Ngroup']))) / (sum(df['Nmarket'] - df['Ngroup']))"
   ]
  },
  {
   "cell_type": "markdown",
   "metadata": {},
   "source": [
    " We see that the average within group elasticities are much larger than the cross-group elasticities, as expected in the nested logit model"
   ]
  },
  {
   "cell_type": "code",
   "execution_count": null,
   "metadata": {},
   "outputs": [
    {
     "data": {
      "text/plain": [
       "0.18261653300310038"
      ]
     },
     "metadata": {},
     "output_type": "display_data"
    }
   ],
   "source": [
    "# mean cross-product elasticity for all goods\n",
    "\n",
    "N = (sum(df['CrossDiffG'] * (df['Nmarket'] - df['Ngroup'])) + (sum(df['CrossSameG'] * (df['Ngroup']-1) ))) \n",
    "D =((sum(df['Nmarket'] - df['Ngroup'])) + sum(df['Ngroup']- 1))\n",
    "\n",
    "N / D"
   ]
  },
  {
   "cell_type": "markdown",
   "metadata": {},
   "source": [
    "## Random Coefficient Logit BLP"
   ]
  },
  {
   "cell_type": "code",
   "execution_count": 46,
   "metadata": {},
   "outputs": [],
   "source": [
    "# Initial values \n",
    "alpha = res2.x[0]\n",
    "beta1= res2.x[1]\n",
    "beta2 = res2.x[2]\n",
    "beta3 = res2.x[3]\n",
    "k1 = 1\n",
    "sigma1 = 1\n",
    "sigma2 = 1\n",
    "sigma3 = 1\n",
    "sigma4 = 1\n",
    "sigma1_=2\n",
    "\n",
    "sigma = np.array([sigma1_, sigma2, sigma3, sigma4]) \n",
    "\n",
    "productcat = np.array([df.productatt_1, df.productatt_2, df.productatt_3])\n",
    "\n",
    "costshift = np.array([df.costshift_1, df.costshift_2, df.costshift_3])\n",
    "\n",
    "price = df.price\n",
    "\n",
    "market_id = df.market_id\n",
    "product_id = df.product_id"
   ]
  },
  {
   "cell_type": "markdown",
   "metadata": {},
   "source": [
    "## Step 1 & 2: Contraction mapping"
   ]
  },
  {
   "cell_type": "code",
   "execution_count": 49,
   "metadata": {},
   "outputs": [],
   "source": [
    "# Initial delta is the different between the predicted delta from the probit and the values in the data\n",
    "delta_jn =  np.log(df.product_ms) - np.log(df.share_pre)\n",
    "difference_d = 10000\n",
    "delta0 = np.ones(970)"
   ]
  },
  {
   "cell_type": "code",
   "execution_count": 170,
   "metadata": {},
   "outputs": [],
   "source": [
    "# I generate a 200*1000 matrix of random normal vbles. 4 nu's for each of the 50 markets. 1000 consumers\n",
    "np.random.seed(123456789)\n",
    "nu = np.random.multivariate_normal(np.zeros(4*50), np.eye(4*50), size = 1000) \n",
    "\n",
    "\n",
    "# Cumulative # of products per market. I create this to have the indicators for the matrix multiplication below of my nu matrix with the price and product characteristics\n",
    "MK = pd.DataFrame(df.groupby('market_id').market_id.count())\n",
    "MK['cumulative'] = np.cumsum(MK['market_id']) "
   ]
  },
  {
   "cell_type": "code",
   "execution_count": 169,
   "metadata": {},
   "outputs": [],
   "source": [
    "# Simulating product shares (multiplication of matrices)\n",
    "\n",
    "def get_shares_matrix(params, delta_current, nu, price, productcat, market_id, product_id, MK):\n",
    "\n",
    "    alpha, beta1, beta2, beta3, sigma1, sigma2, sigma3, sigma4, k1 = params\n",
    "    \n",
    "    sigma = np.array([sigma1, sigma2, sigma3, sigma4])\n",
    "\n",
    "    X = pd.DataFrame(np.exp((nu[:,0:4].dot(pd.concat([price[0:MK.iloc[0,1]],pd.DataFrame(productcat).iloc[:,0:MK.iloc[0,1]].T], axis = 1, ignore_index=True).T*sigma[:, np.newaxis]).T + delta_current[0:MK.iloc[0,1], None])))\n",
    " \n",
    "    for i in range(0,49):\n",
    "        Xmkt = pd.DataFrame(np.exp((nu[:,4*(i+1):((4*(i+1))+4)].dot(pd.concat([price[MK.iloc[i,1]:MK.iloc[i+1,1]],pd.DataFrame(productcat).iloc[:,MK.iloc[i,1]:MK.iloc[i+1,1]].T], axis = 1, ignore_index=True).T*sigma[:, np.newaxis]).T + delta_current[MK.iloc[i,1]:MK.iloc[i+1,1], None])))\n",
    "        X = pd.concat([X, Xmkt], axis = 0)\n",
    "\n",
    "    X.reset_index(inplace=True, drop=True)\n",
    "\n",
    "    Xsum = pd.concat([X , pd.DataFrame(market_id)], axis = 1).groupby('market_id').transform('sum') \n",
    "\n",
    "    X1 = np.divide(X,Xsum + 1)\n",
    "\n",
    "    X1['share_jn'] = X1.iloc[:,0:1000].mean(axis = 1)\n",
    "\n",
    "    return X1"
   ]
  },
  {
   "cell_type": "code",
   "execution_count": 171,
   "metadata": {},
   "outputs": [
    {
     "data": {
      "text/plain": [
       "(970, 1001)"
      ]
     },
     "execution_count": 171,
     "metadata": {},
     "output_type": "execute_result"
    }
   ],
   "source": [
    "# get_shares_matrix(np.array([res2.x[0], res2.x[1], res2.x[2], res2.x[3], 1 , 1, 1, 1, 3]) , delta0, nu, price, productcat, market_id, product_id, MK).shape"
   ]
  },
  {
   "cell_type": "code",
   "execution_count": 179,
   "metadata": {},
   "outputs": [],
   "source": [
    "# Contraction mapping function ##\n",
    "\n",
    "def contractionmap(params, *args):\n",
    "\n",
    "    alpha, beta1, beta2, beta3, sigma1, sigma2, sigma3, sigma4, k1 = params\n",
    "\n",
    "    price, nu, productcat, product_ms , share_pre , product_id , market_id , delta0 , costshift , W_hat, MK = args\n",
    "\n",
    "    difference_d = 1\n",
    "    delta_current = delta0\n",
    "\n",
    "    while difference_d >  0.00001 :\n",
    "\n",
    "        exponent_ijn = []\n",
    "        i = 0\n",
    "\n",
    "        # Simulation consumer shares\n",
    "\n",
    "        exponents = get_shares_matrix(params, delta_current,nu, price, productcat, market_id, product_id, MK)\n",
    "\n",
    "        ## Contraction mapping ##\n",
    "\n",
    "        delta_next = delta_current + np.log(product_ms)- np.log(exponents['share_jn'])\n",
    "\n",
    "        difference_d = np.linalg.norm(delta_current - delta_next)\n",
    "\n",
    "        delta_current = delta_next # Delta for next iterations\n",
    "\n",
    "        # print(difference_d)\n",
    "    \n",
    "    return delta_next"
   ]
  },
  {
   "cell_type": "code",
   "execution_count": 180,
   "metadata": {},
   "outputs": [
    {
     "name": "stderr",
     "output_type": "stream",
     "text": [
      "<ipython-input-169-9737351e1dcb>:9: FutureWarning: Support for multi-dimensional indexing (e.g. `obj[:, None]`) is deprecated and will be removed in a future version.  Convert to a numpy array before indexing instead.\n",
      "  X = pd.DataFrame(np.exp((nu[:,0:4].dot(pd.concat([price[0:MK.iloc[0,1]],pd.DataFrame(productcat).iloc[:,0:MK.iloc[0,1]].T], axis = 1, ignore_index=True).T*sigma[:, np.newaxis]).T + delta_current[0:MK.iloc[0,1], None])))\n",
      "<ipython-input-169-9737351e1dcb>:12: FutureWarning: Support for multi-dimensional indexing (e.g. `obj[:, None]`) is deprecated and will be removed in a future version.  Convert to a numpy array before indexing instead.\n",
      "  Xmkt = pd.DataFrame(np.exp((nu[:,4*(i+1):((4*(i+1))+4)].dot(pd.concat([price[MK.iloc[i,1]:MK.iloc[i+1,1]],pd.DataFrame(productcat).iloc[:,MK.iloc[i,1]:MK.iloc[i+1,1]].T], axis = 1, ignore_index=True).T*sigma[:, np.newaxis]).T + delta_current[MK.iloc[i,1]:MK.iloc[i+1,1], None])))\n"
     ]
    },
    {
     "data": {
      "text/plain": [
       "0     -11.010838\n",
       "1     -15.518006\n",
       "2     -15.761951\n",
       "3      -8.939669\n",
       "4     -12.491229\n",
       "         ...    \n",
       "965    -2.428500\n",
       "966    -7.818321\n",
       "967    -7.329816\n",
       "968   -10.461818\n",
       "969   -11.025349\n",
       "Length: 970, dtype: float64"
      ]
     },
     "execution_count": 180,
     "metadata": {},
     "output_type": "execute_result"
    }
   ],
   "source": [
    "# Check is it works\n",
    "# contractionmap(np.array([res2.x[0], res2.x[1], res2.x[2], res2.x[3], 1 , 1, 1, 1, 3]) , price, nu50, productcat, product_ms , share_pre , product_id , market_id , delta_jn , costshift , W_hat, MK)"
   ]
  },
  {
   "cell_type": "markdown",
   "metadata": {},
   "source": [
    "## Step 3 : GMM with instruments"
   ]
  },
  {
   "cell_type": "code",
   "execution_count": 182,
   "metadata": {},
   "outputs": [],
   "source": [
    "## BLP GMM estimation ##\n",
    "\n",
    "def momentsBLP(params, *args):\n",
    "\n",
    "    alpha, beta1, beta2, beta3, sigma1, sigma2, sigma3, sigma4, k1 = params\n",
    "\n",
    "    beta = np.array([beta1,beta2,beta3])\n",
    "\n",
    "    price, nu, productcat, product_ms , share_pre , product_id , market_id , Delta , costshift , W_hat, MK = args\n",
    "\n",
    "    n_obs = costshift[0].shape[0]\n",
    "\n",
    "    xsi = Delta - k1 * np.ones(n_obs) - alpha * price - beta.T.dot(productcat) \n",
    "\n",
    "    Z = np.concatenate((np.ones(970).reshape(1, 970), productcat, costshift, np.square(productcat), np.square(costshift)), axis = 0) # here I have to add squares of costshift and productcat as instruments\n",
    "\n",
    "    momentsBLP = Z.dot(xsi)\n",
    "\n",
    "    return momentsBLP"
   ]
  },
  {
   "cell_type": "code",
   "execution_count": 183,
   "metadata": {},
   "outputs": [],
   "source": [
    "def criterionBLP(params, *args ):\n",
    "\n",
    "    alpha, beta1, beta2, beta3, sigma1, sigma2, sigma3, sigma4, k1 = params\n",
    "\n",
    "    price, nu, productcat, product_ms , share_pre , product_id , market_id , delta0 , costshift , W_hat , MK = args\n",
    "\n",
    "    Delta = contractionmap(params, price, nu, productcat, product_ms , share_pre , product_id , market_id , delta0 , costshift , W_hat, MK)\n",
    "\n",
    "    mom = momentsBLP(params, price, nu, productcat, product_ms , share_pre , product_id , market_id , Delta , costshift , W_hat, MK)\n",
    "\n",
    "    Z = np.concatenate((np.ones(970).reshape(1, 970), productcat, costshift, np.square(productcat), np.square(costshift)), axis = 0) # here I have to add squares of costshift and productcat as instruments\n",
    "    \n",
    "    crit_val = np.dot(np.dot(mom.T, W_hat), mom) \n",
    "\n",
    "    print(crit_val)\n",
    "    \n",
    "    return crit_val.item()"
   ]
  },
  {
   "cell_type": "markdown",
   "metadata": {},
   "source": [
    "## Run BLP"
   ]
  },
  {
   "cell_type": "code",
   "execution_count": 184,
   "metadata": {},
   "outputs": [],
   "source": [
    "# Starting values \n",
    "\n",
    "product_ms = df['product_ms']\n",
    "share_pre = df['share_pre']\n",
    "product_id = df['product_id']\n",
    "market_id = df['market_id']\n",
    "\n",
    "my_start = np.array([res2.x[0], res2.x[1], res2.x[2], res2.x[3], 1 , 1, 1, 1, 3]) # Results from Logit model\n",
    "\n",
    "W_hat = np.identity(13) ## Weighting matrix\n",
    "\n",
    "otherargs = (price, nu, productcat, product_ms , share_pre , product_id , market_id , delta_jn , costshift , W_hat, MK)"
   ]
  },
  {
   "cell_type": "code",
   "execution_count": 1,
   "metadata": {},
   "outputs": [],
   "source": [
    "# BLP Minimization\n",
    "\n",
    "resBLP3 = minimize(criterionBLP, \n",
    "     my_start, \n",
    "      args = (otherargs) , \n",
    "        method = 'L-BFGS-B', options={'ftol': 0.01}) \n"
   ]
  },
  {
   "cell_type": "code",
   "execution_count": 186,
   "metadata": {},
   "outputs": [
    {
     "data": {
      "text/plain": [
       "{'alpha': -2.061028751104665,\n",
       " 'Beta1': 2.763943720491846,\n",
       " 'Beta2': 0.5175608474605092,\n",
       " 'Beta3': 0.6344843102294174,\n",
       " 'Sigma1': 0.6038631386786166,\n",
       " 'Sigma2': 0.6011204552347006,\n",
       " 'Sigma3': 0.7906581250808558,\n",
       " 'Sigma4': 0.6444406317193737,\n",
       " 'Constant': 2.8603332947007725}"
      ]
     },
     "execution_count": 186,
     "metadata": {},
     "output_type": "execute_result"
    }
   ],
   "source": [
    "## BLP RESULTS\n",
    "\n",
    "resBLP3.x\n",
    "\n",
    "# the order is alpha, beta1, beta2, beta3, sigma1, sigma2, sigma3, sigma4, constant\n",
    "\n",
    "{'alpha': resBLP3.x[0],\n",
    "'Beta1': resBLP3.x[1],\n",
    "'Beta2': resBLP3.x[2],\n",
    "'Beta3': resBLP3.x[3],\n",
    "'Sigma1':resBLP3.x[4],\n",
    "'Sigma2': resBLP3.x[5],\n",
    "'Sigma3': resBLP3.x[6],\n",
    "'Sigma4': resBLP3.x[7],\n",
    "'Constant': resBLP3.x[8]}"
   ]
  },
  {
   "cell_type": "code",
   "execution_count": 187,
   "metadata": {},
   "outputs": [
    {
     "data": {
      "text/plain": [
       "      fun: 106071.46728640677\n",
       " hess_inv: <9x9 LbfgsInvHessProduct with dtype=float64>\n",
       "      jac: array([-729079.55479595,  -37473.20902258,  125638.81110134,\n",
       "         97487.25229784, -148364.93426657, -385560.83697573,\n",
       "         88697.35566802,  104737.52429002, -165370.92551976])\n",
       "  message: 'CONVERGENCE: REL_REDUCTION_OF_F_<=_FACTR*EPSMCH'\n",
       "     nfev: 110\n",
       "      nit: 10\n",
       "     njev: 11\n",
       "   status: 0\n",
       "  success: True\n",
       "        x: array([-2.06102875,  2.76394372,  0.51756085,  0.63448431,  0.60386314,\n",
       "        0.60112046,  0.79065813,  0.64444063,  2.86033329])"
      ]
     },
     "execution_count": 187,
     "metadata": {},
     "output_type": "execute_result"
    }
   ],
   "source": [
    "resBLP3"
   ]
  },
  {
   "cell_type": "markdown",
   "metadata": {},
   "source": [
    "##  Elasticities in BLP \n",
    "\n",
    "OWN-PRICE ELASTICITIES\n",
    "\n",
    "$$\n",
    "e_{jj} = \\frac{p_{jn}}{s_{jn}} \\int ... \\int  \\alpha_i s_{ijn}(1-s_{ijn})p(\\nu_{in})\n",
    "$$\n",
    "\n",
    "In practice:\n",
    "\n",
    "$$\n",
    "\\hat{e}_{jj} = \\frac{p_{jn}}{s_{jn}} mean_{jj}(\\alpha_i s_{ijn}(1-s_{ijn}))\n",
    "$$\n"
   ]
  },
  {
   "cell_type": "code",
   "execution_count": 188,
   "metadata": {},
   "outputs": [],
   "source": [
    "sigma = np.array([resBLP3.x[4], resBLP3.x[5], resBLP3.x[6], resBLP3.x[7]])\n",
    "alpha = resBLP3.x[0]"
   ]
  },
  {
   "cell_type": "code",
   "execution_count": 201,
   "metadata": {},
   "outputs": [
    {
     "data": {
      "text/plain": [
       "-9.97447194202457"
      ]
     },
     "execution_count": 201,
     "metadata": {},
     "output_type": "execute_result"
    }
   ],
   "source": [
    "# Own price elasticities\n",
    "\n",
    "X = pd.DataFrame(np.exp((nu50[:,0:4].dot(pd.concat([price[0:MK.iloc[0,1]],pd.DataFrame(productcat).iloc[:,0:MK.iloc[0,1]].T], axis = 1, ignore_index=True).T*sigma[:, np.newaxis]).T + delta0[0:MK.iloc[0,1], None])))\n",
    " \n",
    "for i in range(0,49):\n",
    "    Xmkt = pd.DataFrame(np.exp((nu50[:,4*(i+1):((4*(i+1))+4)].dot(pd.concat([price[MK.iloc[i,1]:MK.iloc[i+1,1]],pd.DataFrame(productcat).iloc[:,MK.iloc[i,1]:MK.iloc[i+1,1]].T], axis = 1, ignore_index=True).T*sigma[:, np.newaxis]).T + delta0[MK.iloc[i,1]:MK.iloc[i+1,1], None])))\n",
    "    X = pd.concat([X, Xmkt], axis = 0)\n",
    "\n",
    "\n",
    "X.reset_index(inplace=True, drop=True)\n",
    "\n",
    "Xsum = pd.concat([X , pd.DataFrame(market_id)], axis = 1).groupby('market_id').transform('sum') # this is for the denominator of the shares\n",
    "\n",
    "X1 = np.divide(X,Xsum + 1) # here I calculate s_ijn for each i and each product. This is a 970* 1000 matrix\n",
    "\n",
    "alpha_i = alpha + sigma1*nu[:,0].T # calculate individual specific alpha\n",
    "\n",
    "X1['share_jn'] = X1.iloc[:,0:1000].mean(axis = 1) # s_jn from model\n",
    "\n",
    "X1['OwnElast'] = price/X1['share_jn']* (alpha_i * X1.iloc[:,0:1000] * (1 - X1.iloc[:,0:1000])).mean(axis = 1) # e_jj is the mean across i of [ alpha_i * s_ijn * (1-s_ijn)]\n",
    "\n",
    "np.mean(X1['OwnElast']) # mean of own price elasticities across markets"
   ]
  },
  {
   "cell_type": "code",
   "execution_count": 204,
   "metadata": {},
   "outputs": [],
   "source": [
    "X1 = pd.concat([X1, pd.DataFrame(market_id)], axis = 1)"
   ]
  },
  {
   "cell_type": "markdown",
   "metadata": {},
   "source": [
    "CROSS-PRICE ELASTICITIES\n",
    "\n",
    "$$\n",
    "e_{jk} = - \\frac{p_{kn}}{s_{jn}} \\int ... \\int  \\alpha_i s_{ijn}s_{ikn}p(\\nu_{in})\n",
    "$$\n",
    "\n",
    "In practice:\n",
    "\n",
    "$$\n",
    "\\hat{e}_{jk} = - \\frac{p_{kn}}{s_{jn}} mean_{jk}(\\alpha_i s_{ijn}s_{ikn})\n",
    "$$"
   ]
  },
  {
   "cell_type": "code",
   "execution_count": 206,
   "metadata": {},
   "outputs": [],
   "source": [
    "# Cross price elasticitices\n",
    "\n",
    "CrossElastBLP = []\n",
    "\n",
    "for n in pd.unique(X1['market_id'].values.ravel()):\n",
    "\n",
    "    marketsize = X1.loc[X1['market_id'] ==n , 0 ].size\n",
    "\n",
    "    Matrix_all = np.full([marketsize, marketsize], 0)\n",
    "    \n",
    "    for i in range(1000):\n",
    "\n",
    "        Matrix_sij_sik = alpha_i[i] * np.array(X1.loc[X1['market_id'] ==n , i ]).reshape(marketsize,1).dot(np.array(X1.loc[X1.market_id == n , i]).reshape(1, marketsize)) # here I calculate sijn*sikn for each combination of j,k\n",
    "\n",
    "        Matrix_all = np.add(Matrix_all, Matrix_sij_sik)\n",
    "    \n",
    "    Matrix_all = Matrix_all/1000 # Matrix Nmarket x Nmarket where each element is the MEAN of sij*sik across the consumers (the integral)\n",
    "\n",
    "    price_n = np.array(df.loc[df.market_id == n, 'price']).reshape(1, marketsize) #  Nmarket x 1\n",
    "\n",
    "    inverse_s_jn = np.array(1/X1.loc[X1.market_id == n , 'share_jn']).reshape(marketsize, 1) # vector de 1 x Nmarket\n",
    "\n",
    "    Matrix_all = Matrix_all * -price_n * inverse_s_jn # the integrals in e_jk are multiplied by -p_kn/s_jn (j is in rows, k is in columns )\n",
    "\n",
    "    np.fill_diagonal(Matrix_all, 0) # I don't want own price elasticities so I replace the diagonal by zeros\n",
    "\n",
    "    mean_cross_n = np.sum(Matrix_all)/(marketsize**2 - marketsize)   # Now I take the mean cross price elasticity in market n\n",
    "\n",
    "    CrossElastBLP.append(mean_cross_n)\n",
    "\n",
    "\n"
   ]
  },
  {
   "cell_type": "code",
   "execution_count": 207,
   "metadata": {},
   "outputs": [
    {
     "data": {
      "text/plain": [
       "0.5317954252133681"
      ]
     },
     "execution_count": 207,
     "metadata": {},
     "output_type": "execute_result"
    }
   ],
   "source": [
    "# Mean cross-price elasticity across all markets\n",
    "\n",
    "np.mean(CrossElastBLP)"
   ]
  }
 ],
 "metadata": {
  "interpreter": {
   "hash": "38cca0c38332a56087b24af0bc80247f4fced29cb4f7f437d91dc159adec9c4e"
  },
  "kernelspec": {
   "display_name": "Python 3.8.8 64-bit ('base': conda)",
   "name": "python3"
  },
  "language_info": {
   "codemirror_mode": {
    "name": "ipython",
    "version": 3
   },
   "file_extension": ".py",
   "mimetype": "text/x-python",
   "name": "python",
   "nbconvert_exporter": "python",
   "pygments_lexer": "ipython3",
   "version": "3.8.8"
  },
  "orig_nbformat": 4
 },
 "nbformat": 4,
 "nbformat_minor": 2
}
