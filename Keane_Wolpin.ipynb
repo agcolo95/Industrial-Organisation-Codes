{
 "cells": [
  {
   "cell_type": "code",
   "execution_count": 1,
   "metadata": {},
   "outputs": [],
   "source": [
    "import os\n",
    "import pandas as pd\n",
    "import scipy.sparse as sci\n",
    "import statsmodels.formula.api as smf\n",
    "import numpy as np\n",
    "from scipy.optimize import minimize\n",
    "from scipy.linalg import block_diag\n",
    "from numpy.linalg import inv\n",
    "from linearmodels.iv import IVGMM\n",
    "from linearmodels.iv import IV2SLS\n",
    "import numpy.linalg as lin\n",
    "import matplotlib.pyplot as plt\n",
    "import math\n",
    "import scipy.optimize"
   ]
  },
  {
   "cell_type": "code",
   "execution_count": 19,
   "metadata": {},
   "outputs": [],
   "source": [
    "os.chdir('/Users/agcolo/Dropbox/PhDCourses_Zurich/Second_year/Empirical_IO/Problem Set Agent Dynamics')"
   ]
  },
  {
   "cell_type": "code",
   "execution_count": 20,
   "metadata": {},
   "outputs": [],
   "source": [
    "df = pd.read_stata('PS2_Data.dta')"
   ]
  },
  {
   "cell_type": "code",
   "execution_count": 318,
   "metadata": {},
   "outputs": [],
   "source": [
    "# Replicate table 1\n",
    "\n",
    "table_1_mean= df.groupby('age').aggregate(Age = ('age', np.mean) , School = ('SchD', np.mean), White_collar = ('WhCoD', np.mean), Blue_collar = ('BlCoD', np.mean))\n",
    "table_1_sum = df.groupby('age').aggregate(Age = ('age', np.mean) , School = ('SchD', np.sum), White_collar = ('WhCoD', np.sum), Blue_collar = ('BlCoD', np.sum))"
   ]
  },
  {
   "cell_type": "code",
   "execution_count": 376,
   "metadata": {},
   "outputs": [],
   "source": [
    "table_1 = pd.DataFrame(columns=[ 'Age', 'School', 'White_collar', 'Blue_collar'])\n",
    "\n",
    "for i in range(1,11):\n",
    "    table_1.loc[2*i] = round(table_1_mean.loc[i,],2)\n",
    "    table_1.loc[2*i + 1] = table_1_sum.loc[i,].astype(int)"
   ]
  },
  {
   "cell_type": "code",
   "execution_count": 378,
   "metadata": {},
   "outputs": [
    {
     "data": {
      "text/html": [
       "<div>\n",
       "<style scoped>\n",
       "    .dataframe tbody tr th:only-of-type {\n",
       "        vertical-align: middle;\n",
       "    }\n",
       "\n",
       "    .dataframe tbody tr th {\n",
       "        vertical-align: top;\n",
       "    }\n",
       "\n",
       "    .dataframe thead th {\n",
       "        text-align: right;\n",
       "    }\n",
       "</style>\n",
       "<table border=\"1\" class=\"dataframe\">\n",
       "  <thead>\n",
       "    <tr style=\"text-align: right;\">\n",
       "      <th></th>\n",
       "      <th>Age</th>\n",
       "      <th>School</th>\n",
       "      <th>White_collar</th>\n",
       "      <th>Blue_collar</th>\n",
       "    </tr>\n",
       "  </thead>\n",
       "  <tbody>\n",
       "    <tr>\n",
       "      <th>2</th>\n",
       "      <td>1.0</td>\n",
       "      <td>0.44</td>\n",
       "      <td>0.27</td>\n",
       "      <td>0.29</td>\n",
       "    </tr>\n",
       "    <tr>\n",
       "      <th>3</th>\n",
       "      <td>1.0</td>\n",
       "      <td>221.00</td>\n",
       "      <td>133.00</td>\n",
       "      <td>146.00</td>\n",
       "    </tr>\n",
       "    <tr>\n",
       "      <th>4</th>\n",
       "      <td>2.0</td>\n",
       "      <td>0.40</td>\n",
       "      <td>0.28</td>\n",
       "      <td>0.32</td>\n",
       "    </tr>\n",
       "    <tr>\n",
       "      <th>5</th>\n",
       "      <td>2.0</td>\n",
       "      <td>199.00</td>\n",
       "      <td>142.00</td>\n",
       "      <td>159.00</td>\n",
       "    </tr>\n",
       "    <tr>\n",
       "      <th>6</th>\n",
       "      <td>3.0</td>\n",
       "      <td>0.37</td>\n",
       "      <td>0.33</td>\n",
       "      <td>0.30</td>\n",
       "    </tr>\n",
       "    <tr>\n",
       "      <th>7</th>\n",
       "      <td>3.0</td>\n",
       "      <td>185.00</td>\n",
       "      <td>165.00</td>\n",
       "      <td>150.00</td>\n",
       "    </tr>\n",
       "    <tr>\n",
       "      <th>8</th>\n",
       "      <td>4.0</td>\n",
       "      <td>0.33</td>\n",
       "      <td>0.36</td>\n",
       "      <td>0.32</td>\n",
       "    </tr>\n",
       "    <tr>\n",
       "      <th>9</th>\n",
       "      <td>4.0</td>\n",
       "      <td>164.00</td>\n",
       "      <td>178.00</td>\n",
       "      <td>158.00</td>\n",
       "    </tr>\n",
       "    <tr>\n",
       "      <th>10</th>\n",
       "      <td>5.0</td>\n",
       "      <td>0.30</td>\n",
       "      <td>0.35</td>\n",
       "      <td>0.35</td>\n",
       "    </tr>\n",
       "    <tr>\n",
       "      <th>11</th>\n",
       "      <td>5.0</td>\n",
       "      <td>149.00</td>\n",
       "      <td>177.00</td>\n",
       "      <td>174.00</td>\n",
       "    </tr>\n",
       "    <tr>\n",
       "      <th>12</th>\n",
       "      <td>6.0</td>\n",
       "      <td>0.24</td>\n",
       "      <td>0.39</td>\n",
       "      <td>0.37</td>\n",
       "    </tr>\n",
       "    <tr>\n",
       "      <th>13</th>\n",
       "      <td>6.0</td>\n",
       "      <td>122.00</td>\n",
       "      <td>195.00</td>\n",
       "      <td>183.00</td>\n",
       "    </tr>\n",
       "    <tr>\n",
       "      <th>14</th>\n",
       "      <td>7.0</td>\n",
       "      <td>0.24</td>\n",
       "      <td>0.35</td>\n",
       "      <td>0.40</td>\n",
       "    </tr>\n",
       "    <tr>\n",
       "      <th>15</th>\n",
       "      <td>7.0</td>\n",
       "      <td>122.00</td>\n",
       "      <td>177.00</td>\n",
       "      <td>201.00</td>\n",
       "    </tr>\n",
       "    <tr>\n",
       "      <th>16</th>\n",
       "      <td>8.0</td>\n",
       "      <td>0.19</td>\n",
       "      <td>0.39</td>\n",
       "      <td>0.42</td>\n",
       "    </tr>\n",
       "    <tr>\n",
       "      <th>17</th>\n",
       "      <td>8.0</td>\n",
       "      <td>95.00</td>\n",
       "      <td>195.00</td>\n",
       "      <td>210.00</td>\n",
       "    </tr>\n",
       "    <tr>\n",
       "      <th>18</th>\n",
       "      <td>9.0</td>\n",
       "      <td>0.18</td>\n",
       "      <td>0.39</td>\n",
       "      <td>0.43</td>\n",
       "    </tr>\n",
       "    <tr>\n",
       "      <th>19</th>\n",
       "      <td>9.0</td>\n",
       "      <td>91.00</td>\n",
       "      <td>196.00</td>\n",
       "      <td>213.00</td>\n",
       "    </tr>\n",
       "    <tr>\n",
       "      <th>20</th>\n",
       "      <td>10.0</td>\n",
       "      <td>0.14</td>\n",
       "      <td>0.45</td>\n",
       "      <td>0.41</td>\n",
       "    </tr>\n",
       "    <tr>\n",
       "      <th>21</th>\n",
       "      <td>10.0</td>\n",
       "      <td>68.00</td>\n",
       "      <td>226.00</td>\n",
       "      <td>206.00</td>\n",
       "    </tr>\n",
       "  </tbody>\n",
       "</table>\n",
       "</div>"
      ],
      "text/plain": [
       "     Age  School  White_collar  Blue_collar\n",
       "2    1.0    0.44          0.27         0.29\n",
       "3    1.0  221.00        133.00       146.00\n",
       "4    2.0    0.40          0.28         0.32\n",
       "5    2.0  199.00        142.00       159.00\n",
       "6    3.0    0.37          0.33         0.30\n",
       "7    3.0  185.00        165.00       150.00\n",
       "8    4.0    0.33          0.36         0.32\n",
       "9    4.0  164.00        178.00       158.00\n",
       "10   5.0    0.30          0.35         0.35\n",
       "11   5.0  149.00        177.00       174.00\n",
       "12   6.0    0.24          0.39         0.37\n",
       "13   6.0  122.00        195.00       183.00\n",
       "14   7.0    0.24          0.35         0.40\n",
       "15   7.0  122.00        177.00       201.00\n",
       "16   8.0    0.19          0.39         0.42\n",
       "17   8.0   95.00        195.00       210.00\n",
       "18   9.0    0.18          0.39         0.43\n",
       "19   9.0   91.00        196.00       213.00\n",
       "20  10.0    0.14          0.45         0.41\n",
       "21  10.0   68.00        226.00       206.00"
      ]
     },
     "execution_count": 378,
     "metadata": {},
     "output_type": "execute_result"
    }
   ],
   "source": [
    "table_1\n",
    "\n",
    "# We see that schooling is decreasing in age while White Collar and Blue Collar are increasing in age"
   ]
  },
  {
   "cell_type": "code",
   "execution_count": 22,
   "metadata": {},
   "outputs": [],
   "source": [
    "# Replicate table 2\n",
    "\n",
    "df['LagChoiceSchD'] = df.groupby('indiv')['SchD'].shift(1)\n",
    "df['LagChoiceWhCod'] = df.groupby('indiv')['WhCoD'].shift(1)\n",
    "df['LagChoiceBlCod'] = df.groupby('indiv')['BlCoD'].shift(1)"
   ]
  },
  {
   "cell_type": "code",
   "execution_count": 389,
   "metadata": {},
   "outputs": [],
   "source": [
    "# Table 2\n",
    "\n",
    "# First figure : percentage in each occupation who goes to each destination\n",
    "\n",
    "def table2_1(current , previous):\n",
    "    prop = df.loc[(current == 1) & (previous == 1),].shape[0] / df.loc[(previous == 1),].shape[0] \n",
    "\n",
    "    return prop\n",
    "\n",
    "# Second figure : percentage in each occupation who started from each origin\n",
    "\n",
    "def table2_2(current, previous):\n",
    "    prop = df.loc[(current == 1) & (previous == 1),].shape[0] / df.loc[(current == 1) & (df.age !=1),].shape[0] \n",
    "\n",
    "    return prop\n"
   ]
  },
  {
   "cell_type": "code",
   "execution_count": 418,
   "metadata": {},
   "outputs": [],
   "source": [
    "table_2 = []\n",
    "for i in [df.LagChoiceSchD, df.LagChoiceWhCod, df.LagChoiceBlCod]:\n",
    "    row = []\n",
    "    row2 = []\n",
    "    for j in [df.SchD, df.WhCoD, df.BlCoD]: \n",
    "        row.append(round(table2_1(j,i),3))\n",
    "        row2.append(round(table2_2(j,i),3))\n",
    "    table_2.append(row)\n",
    "    table_2.append(row2)"
   ]
  },
  {
   "cell_type": "code",
   "execution_count": 419,
   "metadata": {},
   "outputs": [],
   "source": [
    "table_2_df = pd.DataFrame(table_2)\n",
    "\n",
    "table_2_df.columns = ['School', 'White Collar', 'Blue Collar']\n",
    "\n",
    "list = ['School', 'School', 'White Collar', 'White Collar', 'Blue Collar', 'Blue Collar']\n",
    "\n",
    "table_2_df['X'] = list\n",
    "\n",
    "cols = table_2_df.columns.tolist()\n",
    "cols = cols[-1:] + cols[:-1]\n",
    "table_2_df = table_2_df[cols]\n"
   ]
  },
  {
   "cell_type": "code",
   "execution_count": 420,
   "metadata": {},
   "outputs": [
    {
     "data": {
      "text/html": [
       "<div>\n",
       "<style scoped>\n",
       "    .dataframe tbody tr th:only-of-type {\n",
       "        vertical-align: middle;\n",
       "    }\n",
       "\n",
       "    .dataframe tbody tr th {\n",
       "        vertical-align: top;\n",
       "    }\n",
       "\n",
       "    .dataframe thead th {\n",
       "        text-align: right;\n",
       "    }\n",
       "</style>\n",
       "<table border=\"1\" class=\"dataframe\">\n",
       "  <thead>\n",
       "    <tr style=\"text-align: right;\">\n",
       "      <th></th>\n",
       "      <th>X</th>\n",
       "      <th>School</th>\n",
       "      <th>White Collar</th>\n",
       "      <th>Blue Collar</th>\n",
       "    </tr>\n",
       "  </thead>\n",
       "  <tbody>\n",
       "    <tr>\n",
       "      <th>0</th>\n",
       "      <td>School</td>\n",
       "      <td>0.250</td>\n",
       "      <td>0.375</td>\n",
       "      <td>0.375</td>\n",
       "    </tr>\n",
       "    <tr>\n",
       "      <th>1</th>\n",
       "      <td>School</td>\n",
       "      <td>0.282</td>\n",
       "      <td>0.306</td>\n",
       "      <td>0.306</td>\n",
       "    </tr>\n",
       "    <tr>\n",
       "      <th>2</th>\n",
       "      <td>White Collar</td>\n",
       "      <td>0.274</td>\n",
       "      <td>0.412</td>\n",
       "      <td>0.314</td>\n",
       "    </tr>\n",
       "    <tr>\n",
       "      <th>3</th>\n",
       "      <td>White Collar</td>\n",
       "      <td>0.357</td>\n",
       "      <td>0.389</td>\n",
       "      <td>0.296</td>\n",
       "    </tr>\n",
       "    <tr>\n",
       "      <th>4</th>\n",
       "      <td>Blue Collar</td>\n",
       "      <td>0.270</td>\n",
       "      <td>0.316</td>\n",
       "      <td>0.413</td>\n",
       "    </tr>\n",
       "    <tr>\n",
       "      <th>5</th>\n",
       "      <td>Blue Collar</td>\n",
       "      <td>0.361</td>\n",
       "      <td>0.305</td>\n",
       "      <td>0.398</td>\n",
       "    </tr>\n",
       "  </tbody>\n",
       "</table>\n",
       "</div>"
      ],
      "text/plain": [
       "              X  School  White Collar  Blue Collar\n",
       "0        School   0.250         0.375        0.375\n",
       "1        School   0.282         0.306        0.306\n",
       "2  White Collar   0.274         0.412        0.314\n",
       "3  White Collar   0.357         0.389        0.296\n",
       "4   Blue Collar   0.270         0.316        0.413\n",
       "5   Blue Collar   0.361         0.305        0.398"
      ]
     },
     "execution_count": 420,
     "metadata": {},
     "output_type": "execute_result"
    }
   ],
   "source": [
    "table_2_df # For (i,j) i is state today and j is state yesterday. \n",
    "# First row is as % of origin, Second row is as % of destination"
   ]
  },
  {
   "cell_type": "markdown",
   "metadata": {},
   "source": [
    "+ We see high persistence in WC and BC occupations. Less persistence in schooling. There is a flow from BC to WC and also from WC to BC\n",
    "  \n",
    "+ We see that the % of people in school who stay in school is lower than the % of people currently in school who were in school last year. Thus, more likely to transition out of school than into school\n",
    "\n",
    "+ With WC occupations the opposite occurs: The % of people in WC who stay in WC is 40% while the % of people who are in WC today and come from WC is 38%. More transitions into WC than out of "
   ]
  },
  {
   "cell_type": "code",
   "execution_count": 323,
   "metadata": {},
   "outputs": [
    {
     "data": {
      "text/plain": [
       "<matplotlib.legend.Legend at 0x7fdec9462550>"
      ]
     },
     "execution_count": 323,
     "metadata": {},
     "output_type": "execute_result"
    },
    {
     "data": {
      "image/png": "[encoded data removed]",
      "text/plain": [
       "<Figure size 432x288 with 1 Axes>"
      ]
     },
     "metadata": {
      "needs_background": "light"
     },
     "output_type": "display_data"
    }
   ],
   "source": [
    "# Figure 1 should be created with table_1 dataframe\n",
    "fig, ax = plt.subplots()\n",
    "\n",
    "ax.plot(table_1_mean['Age'], table_1_mean['School'])\n",
    "ax.plot(table_1_mean['Age'], table_1_mean['White_collar'])\n",
    "ax.plot(table_1_mean['Age'], table_1_mean['Blue_collar'])\n",
    "\n",
    "ax.set_title('Figure1')\n",
    "ax.set_xlabel('Age', fontsize = 10)\n",
    "ax.set_ylabel('Percent', fontsize = 10)\n",
    "\n",
    "\n",
    "ax.legend(['School', 'White Collar', 'Blue Collar'], frameon = False)"
   ]
  },
  {
   "cell_type": "markdown",
   "metadata": {},
   "source": [
    "As expected, proportion of people in school is decreasing in age, while WC and BC work are increasing in age. Note that for WC the increase is steeper for higher ages than for BC. This is probably because people coming out of school at higher ages are well educated and go more frequently to WC jobs than to BC jobs"
   ]
  },
  {
   "cell_type": "markdown",
   "metadata": {},
   "source": [
    "## Solving single agent dynamic problem"
   ]
  },
  {
   "cell_type": "code",
   "execution_count": 33,
   "metadata": {},
   "outputs": [],
   "source": [
    "Nind = 500"
   ]
  },
  {
   "cell_type": "code",
   "execution_count": 23,
   "metadata": {},
   "outputs": [],
   "source": [
    "# Schooling years and work experience\n",
    "\n",
    "df['g_a'] = df.groupby('indiv').transform('cumsum')['SchD'] + 10\n",
    "df['x_w'] = df.groupby('indiv').transform('cumsum')['WhCoD'] \n",
    "df['x_b'] = df.groupby('indiv').transform('cumsum')['BlCoD'] "
   ]
  },
  {
   "cell_type": "code",
   "execution_count": 24,
   "metadata": {},
   "outputs": [],
   "source": [
    "# Correction to lag years of schooling\n",
    "\n",
    "df['g_a'] = df['g_a'] - 1*(df['SchD'] == 1)\n",
    "df['x_w'] = df['x_w'] - 1*(df['WhCoD'] == 1)\n",
    "df['x_b'] = df['x_b'] - 1*(df['BlCoD'] == 1)"
   ]
  },
  {
   "cell_type": "markdown",
   "metadata": {},
   "source": [
    "## Reward functions"
   ]
  },
  {
   "cell_type": "markdown",
   "metadata": {},
   "source": [
    "$ R_s(a) = β_0 + β_1I[g(a) ≥ 12] + εs(a) $"
   ]
  },
  {
   "cell_type": "code",
   "execution_count": 25,
   "metadata": {},
   "outputs": [],
   "source": [
    "def Rs(params_s, g_a):\n",
    "    Beta0 , Beta1 = params_s\n",
    "    Rs = Beta0 + Beta1*(g_a>11) \n",
    "    \n",
    "    return Rs "
   ]
  },
  {
   "cell_type": "markdown",
   "metadata": {},
   "source": [
    "$ R_w(a) = α_1g(a) + α_2x_w(a) + α_3x^2_w(a) + ε_w(a) $"
   ]
  },
  {
   "cell_type": "code",
   "execution_count": 26,
   "metadata": {},
   "outputs": [],
   "source": [
    "def Rw(params_w, g_a, x_w):\n",
    "    alpha1, alpha2, alpha3 = params_w\n",
    "    Rw = alpha1*g_a + alpha2*x_w + alpha3*x_w**2 \n",
    "\n",
    "    return Rw"
   ]
  },
  {
   "cell_type": "markdown",
   "metadata": {},
   "source": [
    "$ R_b(a) = η_1g(a) + η_2x_b(a) + η_3x^2_b (a) + ε_b(a) $"
   ]
  },
  {
   "cell_type": "code",
   "execution_count": 27,
   "metadata": {},
   "outputs": [],
   "source": [
    "def Rb(params_b, g_a, x_b):\n",
    "    eta1, eta2, eta3 = params_b\n",
    "    Rb = eta1*g_a + eta2*x_b + eta3*x_b**2 \n",
    "\n",
    "    return Rb"
   ]
  },
  {
   "cell_type": "code",
   "execution_count": 28,
   "metadata": {},
   "outputs": [],
   "source": [
    "# Define parameters\n",
    "Beta0_init = 0\n",
    "Beta1_init = 0\n",
    "Beta_init = np.array([Beta0_init, Beta1_init])\n",
    "alpha1_init = 0.1\n",
    "alpha2_init = 0.1\n",
    "alpha3_init = -0.01\n",
    "alpha_init = np.array([alpha1_init, alpha2_init, alpha3_init])\n",
    "eta1_init = 0.1\n",
    "eta2_init = 0.1\n",
    "eta3_init = -0.01\n",
    "Eta_init = np.array([eta1_init, eta2_init, eta3_init])\n",
    "g_a_init = 10\n",
    "γ = 0.57721566490153286061 # euler mascharoni constant. Mean of extreme value type 1"
   ]
  },
  {
   "cell_type": "markdown",
   "metadata": {},
   "source": [
    "## Value functions"
   ]
  },
  {
   "cell_type": "markdown",
   "metadata": {},
   "source": [
    "For a < A:\n",
    "$$ \n",
    "\n",
    "V_k(S(a), a) = R_k(S(a), a) + δE[V (S(a + 1), a + 1)|S(a), d_k(a) = 1] \n",
    "\n",
    " $$\n"
   ]
  },
  {
   "cell_type": "markdown",
   "metadata": {},
   "source": [
    "For last age:\n",
    "$$ \n",
    "\n",
    "V_k(S(A), A) = R_k(S(A), A)\n",
    "\n",
    " $$"
   ]
  },
  {
   "cell_type": "markdown",
   "metadata": {},
   "source": [
    "Due to Gumbel distribution assumption we have:\n",
    "\n",
    "$$\n",
    "EMax = E(V(s)) = \\gamma + ln(\\sum_k (e^{V_k}))\n",
    "$$"
   ]
  },
  {
   "cell_type": "markdown",
   "metadata": {},
   "source": [
    "The state space consists of all factors, known to the individual, that affect current rewards or the probability distribution of any of the future rewards."
   ]
  },
  {
   "cell_type": "code",
   "execution_count": 12,
   "metadata": {},
   "outputs": [],
   "source": [
    "# Calculate EMax at age A\n",
    "\n",
    "def EMax_A(g_a, x_b, x_w, params_s, params_w, params_b):\n",
    "\n",
    "    # Chooses schooling\n",
    "    Vs = Rs(params_s, g_a) # Nind * 1. One value for each individual\n",
    "    # Chooses white collar\n",
    "    Vw = Rw(params_w, g_a, x_w) \n",
    "    # Chooses blue collar\n",
    "    Vb = Rb(params_b, g_a, x_b) \n",
    "\n",
    "    EMax = γ + np.log(np.sum(np.exp([Vs, Vw, Vb]), axis = 0))\n",
    "\n",
    "    return [EMax, Vs, Vw, Vb]  # Nind X 1\n"
   ]
  },
  {
   "cell_type": "code",
   "execution_count": 13,
   "metadata": {},
   "outputs": [],
   "source": [
    "# EMax at age A-1\n",
    "\n",
    "def EMax_A_1(g_a, x_b, x_w, params_s, params_w, params_b):\n",
    "\n",
    "    # Chooses schooling\n",
    "    Vs = Rs(params_s, g_a) + 0.95*EMax_A(g_a + 1 , x_b, x_w, params_s, params_w, params_b)[0] #  Nind * 1\n",
    "    # Chooses white collar\n",
    "    Vw = Rw(params_w, g_a, x_w) + 0.95*EMax_A(g_a , x_b, x_w + 1, params_s, params_w, params_b)[0]\n",
    "    # Chooses blue collar\n",
    "    Vb = Rb(params_b, g_a, x_b ) + 0.95*EMax_A(g_a , x_b + 1 , x_w, params_s, params_w, params_b)[0]\n",
    "\n",
    "    EMax = γ + np.log(np.sum(np.exp([Vs, Vw, Vb]), axis = 0))\n",
    "\n",
    "    return [EMax, Vs, Vw, Vb]  # Nind X 1"
   ]
  },
  {
   "cell_type": "code",
   "execution_count": 14,
   "metadata": {},
   "outputs": [],
   "source": [
    "# EMax at age A-2\n",
    "\n",
    "def EMax_A_2(g_a, x_b, x_w, params_s, params_w, params_b):\n",
    "\n",
    "    # Chooses schooling\n",
    "    Vs = Rs(params_s, g_a) + 0.95*EMax_A_1(g_a + 1 , x_b, x_w, params_s, params_w, params_b)[0]\n",
    "    # Chooses white collar\n",
    "    Vw = Rw(params_w, g_a, x_w) + 0.95*EMax_A_1(g_a , x_b, x_w + 1, params_s, params_w, params_b)[0]\n",
    "    # Chooses blue collar\n",
    "    Vb = Rb(params_b, g_a, x_b ) + 0.95*EMax_A_1(g_a , x_b + 1 , x_w, params_s, params_w, params_b)[0]\n",
    "\n",
    "    EMax = γ + np.log(np.sum(np.exp([Vs, Vw, Vb]), axis = 0))\n",
    "\n",
    "    return [EMax, Vs, Vw, Vb]  # Nind X 1"
   ]
  },
  {
   "cell_type": "code",
   "execution_count": 15,
   "metadata": {},
   "outputs": [],
   "source": [
    "# EMax at age A-3\n",
    "\n",
    "def EMax_A_3(g_a, x_b, x_w, params_s, params_w, params_b):\n",
    "\n",
    "    # Chooses schooling\n",
    "    Vs = Rs(params_s, g_a) + 0.95*EMax_A_2(g_a + 1 , x_b, x_w, params_s, params_w, params_b)[0] \n",
    "    # Chooses white collar\n",
    "    Vw = Rw(params_w, g_a, x_w) + 0.95*EMax_A_2(g_a , x_b, x_w + 1, params_s, params_w, params_b)[0]\n",
    "    # Chooses blue collar\n",
    "    Vb = Rb(params_b, g_a, x_b ) + 0.95*EMax_A_2(g_a , x_b + 1 , x_w, params_s, params_w, params_b)[0]\n",
    "\n",
    "    EMax = γ + np.log(np.sum(np.exp([Vs, Vw, Vb]), axis = 0))\n",
    "\n",
    "    return [EMax, Vs, Vw, Vb]  # Nind X 1"
   ]
  },
  {
   "cell_type": "code",
   "execution_count": 16,
   "metadata": {},
   "outputs": [],
   "source": [
    "# Period A-4\n",
    "\n",
    "def EMax_A_4(g_a, x_b, x_w, params_s, params_w, params_b):\n",
    "\n",
    "    # Chooses schooling\n",
    "    Vs = Rs(params_s, g_a) + 0.95*EMax_A_3(g_a + 1 , x_b, x_w, params_s, params_w, params_b)[0] \n",
    "    # Chooses white collar\n",
    "    Vw = Rw(params_w, g_a, x_w) + 0.95*EMax_A_3(g_a , x_b, x_w + 1, params_s, params_w, params_b)[0]\n",
    "    # Chooses blue collar\n",
    "    Vb = Rb(params_b, g_a, x_b ) + 0.95*EMax_A_3(g_a , x_b + 1 , x_w, params_s, params_w, params_b)[0]\n",
    "\n",
    "    EMax = γ + np.log(np.sum(np.exp([Vs, Vw, Vb]), axis = 0))\n",
    "\n",
    "    return [EMax, Vs, Vw, Vb]  # Nind X 1"
   ]
  },
  {
   "cell_type": "code",
   "execution_count": 17,
   "metadata": {},
   "outputs": [],
   "source": [
    "# Period A-5\n",
    "\n",
    "def EMax_A_5(g_a, x_b, x_w, params_s, params_w, params_b):\n",
    "\n",
    "    # Chooses schooling\n",
    "    Vs = Rs(params_s, g_a) + 0.95*EMax_A_4(g_a + 1 , x_b, x_w, params_s, params_w, params_b)[0] \n",
    "    # Chooses white collar\n",
    "    Vw = Rw(params_w, g_a, x_w) + 0.95*EMax_A_4(g_a , x_b, x_w + 1, params_s, params_w, params_b)[0]\n",
    "    # Chooses blue collar\n",
    "    Vb = Rb(params_b, g_a, x_b ) + 0.95*EMax_A_4(g_a , x_b + 1 , x_w, params_s, params_w, params_b)[0]\n",
    "\n",
    "    EMax = γ + np.log(np.sum(np.exp([Vs, Vw, Vb]), axis = 0))\n",
    "\n",
    "    return [EMax, Vs, Vw, Vb]  # Nind X 1"
   ]
  },
  {
   "cell_type": "code",
   "execution_count": 18,
   "metadata": {},
   "outputs": [],
   "source": [
    "# Period A-6\n",
    "\n",
    "def EMax_A_6(g_a, x_b, x_w, params_s, params_w, params_b):\n",
    "\n",
    "    # Chooses schooling\n",
    "    Vs = Rs(params_s, g_a) + 0.95*EMax_A_5(g_a + 1 , x_b, x_w, params_s, params_w, params_b)[0] \n",
    "    # Chooses white collar\n",
    "    Vw = Rw(params_w, g_a, x_w) + 0.95*EMax_A_5(g_a , x_b, x_w + 1, params_s, params_w, params_b)[0]\n",
    "    # Chooses blue collar\n",
    "    Vb = Rb(params_b, g_a, x_b ) + 0.95*EMax_A_5(g_a , x_b + 1 , x_w, params_s, params_w, params_b)[0]\n",
    "\n",
    "    EMax = γ + np.log(np.sum(np.exp([Vs, Vw, Vb]), axis = 0))\n",
    "\n",
    "    return [EMax, Vs, Vw, Vb]  # Nind X 1"
   ]
  },
  {
   "cell_type": "code",
   "execution_count": 19,
   "metadata": {},
   "outputs": [],
   "source": [
    "# Period A-7\n",
    "\n",
    "def EMax_A_7(g_a, x_b, x_w, params_s, params_w, params_b):\n",
    "\n",
    "    # Chooses schooling\n",
    "    Vs = Rs(params_s, g_a) + 0.95*EMax_A_6(g_a + 1 , x_b, x_w, params_s, params_w, params_b)[0] \n",
    "    # Chooses white collar\n",
    "    Vw = Rw(params_w, g_a, x_w) + 0.95*EMax_A_6(g_a , x_b, x_w + 1, params_s, params_w, params_b)[0]\n",
    "    # Chooses blue collar\n",
    "    Vb = Rb(params_b, g_a, x_b ) + 0.95*EMax_A_6(g_a , x_b + 1 , x_w, params_s, params_w, params_b)[0]\n",
    "\n",
    "    EMax = γ + np.log(np.sum(np.exp([Vs, Vw, Vb]), axis = 0))\n",
    "\n",
    "    return [EMax, Vs, Vw, Vb]  # Nind X 1"
   ]
  },
  {
   "cell_type": "code",
   "execution_count": 20,
   "metadata": {},
   "outputs": [],
   "source": [
    "# Period A-8\n",
    "\n",
    "def EMax_A_8(g_a, x_b, x_w, params_s, params_w, params_b):\n",
    "\n",
    "    # Chooses schooling\n",
    "    Vs = Rs(params_s, g_a) + 0.95*EMax_A_7(g_a + 1 , x_b, x_w, params_s, params_w, params_b)[0] \n",
    "    # Chooses white collar\n",
    "    Vw = Rw(params_w, g_a, x_w) + 0.95*EMax_A_7(g_a , x_b, x_w + 1, params_s, params_w, params_b)[0]\n",
    "    # Chooses blue collar\n",
    "    Vb = Rb(params_b, g_a, x_b ) + 0.95*EMax_A_7(g_a , x_b + 1 , x_w, params_s, params_w, params_b)[0]\n",
    "\n",
    "    EMax = γ + np.log(np.sum(np.exp([Vs, Vw, Vb]), axis = 0))\n",
    "\n",
    "    return [EMax, Vs, Vw, Vb]  # Nind X 1\n"
   ]
  },
  {
   "cell_type": "code",
   "execution_count": 21,
   "metadata": {},
   "outputs": [],
   "source": [
    "# Period A-9 (First period) This is the decision made at A-9 \n",
    "\n",
    "def V_A_9(g_a, x_b, x_w, params_s, params_w, params_b):\n",
    "\n",
    "    # Chooses schooling\n",
    "    Vs = Rs(params_s, g_a) + 0.95*EMax_A_8(g_a + 1 , x_b, x_w, params_s, params_w, params_b)[0] \n",
    "    # Chooses white collar\n",
    "    Vw = Rw(params_w, g_a, x_w) + 0.95*EMax_A_8(g_a , x_b, x_w + 1, params_s, params_w, params_b)[0]\n",
    "    # Chooses blue collar\n",
    "    Vb = Rb(params_b, g_a, x_b ) + 0.95*EMax_A_8(g_a , x_b + 1 , x_w, params_s, params_w, params_b)[0]\n",
    "\n",
    "    EMax = γ + np.log(np.sum(np.exp([Vs, Vw, Vb]), axis = 0))\n",
    "\n",
    "    return [EMax, Vs, Vw, Vb]  # Nind X 1\n"
   ]
  },
  {
   "cell_type": "markdown",
   "metadata": {},
   "source": [
    "## Trying in another way"
   ]
  },
  {
   "cell_type": "code",
   "execution_count": 39,
   "metadata": {},
   "outputs": [],
   "source": [
    "value_functions = []\n",
    "\n",
    "for i in range(10):\n",
    "    def value_f(g_a, x_b, x_w, params_s, params_w, params_b, i = i):  # <- right here is the important bit\n",
    "\n",
    "        if i == 0:\n",
    "            Vs = Rs(params_s, g_a)\n",
    "            Vw = Rw(params_w, g_a, x_w)\n",
    "            Vb = Rb(params_b, g_a, x_b )\n",
    "            \n",
    "        else:\n",
    "            # Chooses schooling\n",
    "            Vs = Rs(params_s, g_a) + 0.95*value_functions[i-1](g_a + 1 , x_b, x_w, params_s, params_w, params_b)[0] #  Nind * 1\n",
    "            # Chooses white collar\n",
    "            Vw = Rw(params_w, g_a, x_w) + 0.95*value_functions[i-1](g_a , x_b, x_w + 1, params_s, params_w, params_b)[0]\n",
    "            # Chooses blue collar\n",
    "            Vb = Rb(params_b, g_a, x_b ) + 0.95*value_functions[i-1](g_a , x_b + 1 , x_w, params_s, params_w, params_b)[0]\n",
    "\n",
    "        EMax = γ + np.log(np.sum(np.exp([Vs, Vw, Vb]), axis = 0))\n",
    "\n",
    "        return [EMax, Vs, Vw, Vb]  # Nind X 1\n",
    "\n",
    "    value_functions.append(value_f)"
   ]
  },
  {
   "cell_type": "code",
   "execution_count": 40,
   "metadata": {},
   "outputs": [],
   "source": [
    "# Likelihood function \n",
    "\n",
    "def LL(params, df = df): \n",
    "    \n",
    "    Beta0, Beta1, alpha1, alpha2, alpha3, eta1, eta2, eta3 = params\n",
    "\n",
    "    Beta= np.array([Beta0, Beta1])\n",
    "    alpha = np.array([alpha1, alpha2, alpha3])\n",
    "    Eta = np.array([eta1,eta2,eta3])\n",
    "\n",
    "    ll = 0\n",
    "\n",
    "    for i in range(10):\n",
    "\n",
    "        ga = np.array(df.loc[df.age == 10 - i,'g_a']).reshape(1,Nind)\n",
    "        xb = np.array(df.loc[df.age == 10 - i,'x_b']).reshape(1,Nind)\n",
    "        xw = np.array(df.loc[df.age == 10 - i,'x_w']).reshape(1,Nind)\n",
    "\n",
    "        # numerator\n",
    "        Num = np.array(np.concatenate(value_functions[i](ga, xb , xw , Beta, alpha, Eta )[1:4])).T # Nind * 3\n",
    "        # denominator\n",
    "        Denom = np.array(np.concatenate(value_functions[i](ga, xb , xw , Beta, alpha, Eta )[1:4])).T # Nind * 3\n",
    "        # probabiility of decision at age a for each individual (Nind x 1)\n",
    "        p_a = np.exp(np.sum(np.multiply(df.loc[df.age == 10 - i, ('SchD', 'WhCoD', 'BlCoD')], Num), axis = 1))  / np.sum(np.exp(Denom), axis = 1) \n",
    "        \n",
    "        ll += np.sum(np.log(p_a))\n",
    "\n",
    "    # print([Beta, alpha, Eta])\n",
    "\n",
    "    ll = -1*ll\n",
    "\n",
    "    print(ll)\n",
    "\n",
    "    return ll\n",
    "\n"
   ]
  },
  {
   "cell_type": "code",
   "execution_count": 41,
   "metadata": {},
   "outputs": [],
   "source": [
    "my_start = np.array([ 3.27244091, -1.4607128 ,  0.13444809,  0.90571256, -0.12215245,  0.1371122 ,  0.82266058, -0.10270789])"
   ]
  },
  {
   "cell_type": "code",
   "execution_count": 42,
   "metadata": {},
   "outputs": [
    {
     "name": "stdout",
     "output_type": "stream",
     "text": [
      "5182.792221455039\n"
     ]
    },
    {
     "data": {
      "text/plain": [
       "5182.792221455039"
      ]
     },
     "execution_count": 42,
     "metadata": {},
     "output_type": "execute_result"
    }
   ],
   "source": [
    "LL(my_start)"
   ]
  },
  {
   "cell_type": "markdown",
   "metadata": {},
   "source": [
    "## Likelihood Function\n",
    "\n",
    "Due to gumbel assumption we have a Logit Model \n",
    "\n",
    "$$\n",
    "P(shock_i>shock_{j \\neq i}) = \\frac{e^{V_i}}{\\sum_j(e^{V_j})}\n",
    "$$"
   ]
  },
  {
   "cell_type": "markdown",
   "metadata": {},
   "source": [
    "\n",
    "For each individual n:\n",
    "\n",
    "$$\n",
    "\n",
    "ll_n =  \\prod_a p(d_a | X)  \n",
    "\n",
    "$$\n",
    "$$\n",
    "\n",
    "log(ll_n) = \\sum_a log(p_a | X)\n",
    "\n",
    "$$"
   ]
  },
  {
   "cell_type": "markdown",
   "metadata": {},
   "source": [
    "For the whole sample:\n",
    "$$\n",
    "LL = \\sum_n log(ll_n)\n",
    "$$"
   ]
  },
  {
   "cell_type": "code",
   "execution_count": 22,
   "metadata": {},
   "outputs": [],
   "source": [
    "# Likelihood function \n",
    "\n",
    "def LL(params, df = df): \n",
    "    \n",
    "    Beta0, Beta1, alpha1, alpha2, alpha3, eta1, eta2, eta3 = params\n",
    "\n",
    "    Beta= np.array([Beta0, Beta1])\n",
    "    alpha = np.array([alpha1, alpha2, alpha3])\n",
    "    Eta = np.array([eta1,eta2,eta3])\n",
    "\n",
    "    ll = 0\n",
    "\n",
    "    functions = [EMax_A, EMax_A_1 , EMax_A_2, EMax_A_3, EMax_A_4, EMax_A_5, EMax_A_6, EMax_A_7, EMax_A_8, V_A_9]\n",
    "\n",
    "    for i in range(len(functions)):\n",
    "\n",
    "        ga = np.array(df.loc[df.age == 10 - i,'g_a']).reshape(1,Nind)\n",
    "        xb = np.array(df.loc[df.age == 10 - i,'x_b']).reshape(1,Nind)\n",
    "        xw = np.array(df.loc[df.age == 10 - i,'x_w']).reshape(1,Nind)\n",
    "\n",
    "        # numerator\n",
    "        Num = np.array(np.concatenate(functions[i](ga, xb , xw , Beta, alpha, Eta )[1:4])).T # Nind * 3\n",
    "        # denominator\n",
    "        Denom = np.array(np.concatenate(functions[i](ga, xb , xw , Beta, alpha, Eta )[1:4])).T # Nind * 3\n",
    "        # probabiility of decision at age a for each individual (Nind x 1)\n",
    "        p_a = np.exp(np.sum(np.multiply(df.loc[df.age == 10 - i, ('SchD', 'WhCoD', 'BlCoD')], Num), axis = 1))  / np.sum(np.exp(Denom), axis = 1) \n",
    "        \n",
    "        ll += np.sum(np.log(p_a))\n",
    "\n",
    "    # print([Beta, alpha, Eta])\n",
    "\n",
    "    ll = -1*ll\n",
    "\n",
    "    print(ll)\n",
    "\n",
    "    return ll\n",
    "\n"
   ]
  },
  {
   "cell_type": "code",
   "execution_count": 43,
   "metadata": {},
   "outputs": [],
   "source": [
    "my_start = np.array([Beta0_init, Beta1_init, alpha1_init, alpha2_init, alpha3_init, eta1_init, eta2_init, eta3_init])"
   ]
  },
  {
   "cell_type": "code",
   "execution_count": 44,
   "metadata": {},
   "outputs": [],
   "source": [
    "otherargs = df"
   ]
  },
  {
   "cell_type": "code",
   "execution_count": null,
   "metadata": {},
   "outputs": [],
   "source": [
    "MLE = minimize(LL,\n",
    "                my_start,\n",
    "                args = (otherargs),\n",
    "                method = 'BFGS')"
   ]
  },
  {
   "cell_type": "code",
   "execution_count": 46,
   "metadata": {},
   "outputs": [
    {
     "data": {
      "text/plain": [
       "array([ 3.27276463, -1.46094566,  0.1344742 ,  0.90564124, -0.12214061,\n",
       "        0.13712111,  0.82280685, -0.10273386])"
      ]
     },
     "execution_count": 46,
     "metadata": {},
     "output_type": "execute_result"
    }
   ],
   "source": [
    "MLE.x"
   ]
  },
  {
   "cell_type": "code",
   "execution_count": 139,
   "metadata": {},
   "outputs": [
    {
     "data": {
      "text/plain": [
       "      fun: 5182.792221454186\n",
       " hess_inv: <8x8 LbfgsInvHessProduct with dtype=float64>\n",
       "      jac: array([ 0.02282832,  0.03083187, -0.07366907,  0.018008  ,  0.02373781,\n",
       "       -0.26684575, -0.04029062,  0.01346052])\n",
       "  message: 'CONVERGENCE: REL_REDUCTION_OF_F_<=_FACTR*EPSMCH'\n",
       "     nfev: 756\n",
       "      nit: 77\n",
       "     njev: 84\n",
       "   status: 0\n",
       "  success: True\n",
       "        x: array([ 3.27244091, -1.4607128 ,  0.13444809,  0.90571256, -0.12215245,\n",
       "        0.1371122 ,  0.82266058, -0.10270789])"
      ]
     },
     "execution_count": 139,
     "metadata": {},
     "output_type": "execute_result"
    }
   ],
   "source": [
    "MLE"
   ]
  },
  {
   "cell_type": "code",
   "execution_count": 47,
   "metadata": {},
   "outputs": [],
   "source": [
    "# standard errors: (not sure this is correct)\n",
    "results = []\n",
    "for i in range(8):\n",
    "    Coef = round(MLE.x[i],3)\n",
    "    SE = round(MLE.hess_inv[i,i]**0.5,3)\n",
    "    res = [Coef, SE]\n",
    "    results.append(res)\n",
    "\n",
    "parameters = [\"β_0\", \"β_1\", \"α_1\", \"α_2\", \"α_3\", \"η_1\", \"η_2\", \"η_3\"]\n",
    "\n",
    "results = pd.DataFrame(results, parameters)\n",
    "\n",
    "\n",
    "results.columns = ['Coefficient', 'SE']\n",
    "    "
   ]
  },
  {
   "cell_type": "code",
   "execution_count": 39,
   "metadata": {},
   "outputs": [
    {
     "data": {
      "text/html": [
       "<div>\n",
       "<style scoped>\n",
       "    .dataframe tbody tr th:only-of-type {\n",
       "        vertical-align: middle;\n",
       "    }\n",
       "\n",
       "    .dataframe tbody tr th {\n",
       "        vertical-align: top;\n",
       "    }\n",
       "\n",
       "    .dataframe thead th {\n",
       "        text-align: right;\n",
       "    }\n",
       "</style>\n",
       "<table border=\"1\" class=\"dataframe\">\n",
       "  <thead>\n",
       "    <tr style=\"text-align: right;\">\n",
       "      <th></th>\n",
       "      <th>Coefficient</th>\n",
       "      <th>SE</th>\n",
       "    </tr>\n",
       "  </thead>\n",
       "  <tbody>\n",
       "    <tr>\n",
       "      <th>β_0</th>\n",
       "      <td>3.273</td>\n",
       "      <td>0.344</td>\n",
       "    </tr>\n",
       "    <tr>\n",
       "      <th>β_1</th>\n",
       "      <td>-1.461</td>\n",
       "      <td>0.176</td>\n",
       "    </tr>\n",
       "    <tr>\n",
       "      <th>α_1</th>\n",
       "      <td>0.134</td>\n",
       "      <td>0.028</td>\n",
       "    </tr>\n",
       "    <tr>\n",
       "      <th>α_2</th>\n",
       "      <td>0.906</td>\n",
       "      <td>0.157</td>\n",
       "    </tr>\n",
       "    <tr>\n",
       "      <th>α_3</th>\n",
       "      <td>-0.122</td>\n",
       "      <td>0.026</td>\n",
       "    </tr>\n",
       "    <tr>\n",
       "      <th>η_1</th>\n",
       "      <td>0.137</td>\n",
       "      <td>0.022</td>\n",
       "    </tr>\n",
       "    <tr>\n",
       "      <th>η_2</th>\n",
       "      <td>0.823</td>\n",
       "      <td>0.218</td>\n",
       "    </tr>\n",
       "    <tr>\n",
       "      <th>η_3</th>\n",
       "      <td>-0.103</td>\n",
       "      <td>0.034</td>\n",
       "    </tr>\n",
       "  </tbody>\n",
       "</table>\n",
       "</div>"
      ],
      "text/plain": [
       "     Coefficient     SE\n",
       "β_0        3.273  0.344\n",
       "β_1       -1.461  0.176\n",
       "α_1        0.134  0.028\n",
       "α_2        0.906  0.157\n",
       "α_3       -0.122  0.026\n",
       "η_1        0.137  0.022\n",
       "η_2        0.823  0.218\n",
       "η_3       -0.103  0.034"
      ]
     },
     "execution_count": 39,
     "metadata": {},
     "output_type": "execute_result"
    }
   ],
   "source": [
    "results"
   ]
  },
  {
   "cell_type": "markdown",
   "metadata": {},
   "source": [
    "Comments:\n",
    "+ Positive returns to schooling for both occupations. Also very positive returns to experience in each occupation type, although returns are decreasing (concave) in experience\n",
    "+ Schooling tuition costs seem to be quite high"
   ]
  },
  {
   "cell_type": "markdown",
   "metadata": {},
   "source": [
    "## Unobserved heterogeneity \n",
    "\n",
    "For each individual n:\n",
    "\n",
    "$$\n",
    "\n",
    "ll_n = 0.5 *  \\prod_a p(d_a | X, type 1) + 0.5  * \\prod_a p(d_a | X, type 2) \n",
    "\n",
    "$$\n"
   ]
  },
  {
   "cell_type": "markdown",
   "metadata": {},
   "source": [
    "For the whole sample:\n",
    "$$\n",
    "LL = \\sum_n log(ll_n)\n",
    "$$"
   ]
  },
  {
   "cell_type": "code",
   "execution_count": 40,
   "metadata": {},
   "outputs": [],
   "source": [
    "# Likelihood function \n",
    "\n",
    "def LL_uh(params, df): # definir los argumentos\n",
    "    \n",
    "    Beta0, Beta1, alpha1_v1, alpha1_v2, alpha2, alpha3, eta1_v1, eta1_v2, eta2, eta3 = params\n",
    "\n",
    "    Beta= np.array([Beta0, Beta1])\n",
    "    alpha_v1 = np.array([alpha1_v1, alpha2, alpha3])\n",
    "    Eta_v1 = np.array([eta1_v1,eta2,eta3])\n",
    "    alpha_v2 = np.array([alpha1_v2, alpha2, alpha3])\n",
    "    Eta_v2 = np.array([eta1_v2,eta2,eta3])\n",
    "\n",
    "    ll_t1 = np.ones(500)\n",
    "    ll_t2 = np.ones(500)\n",
    "\n",
    "    functions = [EMax_A, EMax_A_1 , EMax_A_2, EMax_A_3, EMax_A_4, EMax_A_5, EMax_A_6, EMax_A_7, EMax_A_8, V_A_9]\n",
    "\n",
    "    for i in range(len(functions)):\n",
    "\n",
    "        ga = np.array(df.loc[df.age == 10 - i,'g_a']).reshape(1,Nind)\n",
    "        xb = np.array(df.loc[df.age == 10 - i,'x_b']).reshape(1,Nind)\n",
    "        xw = np.array(df.loc[df.age == 10 - i,'x_w']).reshape(1,Nind)\n",
    "\n",
    "        # Type 1\n",
    "        Num = np.array(np.concatenate(functions[i](ga, xb , xw , Beta, alpha_v1, Eta_v1 )[1:4])).T # Nind * 3\n",
    "        Denom = np.array(np.concatenate(functions[i](ga, xb , xw , Beta, alpha_v1, Eta_v1 )[1:4])).T # Nind * 3\n",
    "        # probabiility of decision at age a\n",
    "        p_a_v1 = np.exp(np.sum(np.multiply(df.loc[df.age == 10 - i, ('SchD', 'WhCoD', 'BlCoD')], Num), axis = 1))  / np.sum(np.exp(Denom), axis = 1) # Nind X 1 --> prob that chosen option had the highest value for the individual\n",
    "\n",
    "        # Type 2\n",
    "        Num_v2 = np.array(np.concatenate(functions[i](ga, xb , xw , Beta, alpha_v2, Eta_v2 )[1:4])).T # Nind * 3\n",
    "        Denom_v2 = np.array(np.concatenate(functions[i](ga, xb , xw , Beta, alpha_v2, Eta_v2 )[1:4])).T # Nind * 3\n",
    "        # probabiility of decision at age a\n",
    "        p_a_v2 = np.exp(np.sum(np.multiply(df.loc[df.age == 10 - i, ('SchD', 'WhCoD', 'BlCoD')], Num_v2), axis = 1))  / np.sum(np.exp(Denom_v2), axis = 1) # Nind X 1 --> prob that chosen option had the highest value for the individual\n",
    "\n",
    "        ll_t1 = np.multiply(ll_t1.reshape(500,1), np.array(p_a_v1).reshape(500,1)) # Add log-likelihood contribution of age a to each individual (500 x 1)\n",
    "        ll_t2 = np.multiply(ll_t2.reshape(500,1), np.array(p_a_v2).reshape(500,1))\n",
    "\n",
    "    ll_i = 0.5 * ll_t1 + 0.5 * ll_t2 # this is a vector of 500*1 with loglikelihood contribution of individual i\n",
    "\n",
    "    ll = np.sum(np.log(ll_i)) # we sum the log of all the items in this vector\n",
    "\n",
    "    # print([Beta, alpha_v1, alpha_v2, Eta_v1, Eta_v2])\n",
    "\n",
    "    ll = -1*ll\n",
    "\n",
    "    print(ll)\n",
    "\n",
    "    return ll\n",
    "\n"
   ]
  },
  {
   "cell_type": "code",
   "execution_count": 42,
   "metadata": {},
   "outputs": [],
   "source": [
    "my_start2 = np.array([Beta0_init, Beta1_init, alpha1_init, alpha1_init + 0.1 ,  alpha2_init, alpha3_init, eta1_init, eta1_init - 0.1, eta2_init, eta3_init])"
   ]
  },
  {
   "cell_type": "code",
   "execution_count": null,
   "metadata": {},
   "outputs": [],
   "source": [
    "MLE_uh = minimize(LL_uh,\n",
    "                my_start2,\n",
    "                args = (otherargs),\n",
    "                method = 'BFGS')"
   ]
  },
  {
   "cell_type": "code",
   "execution_count": 46,
   "metadata": {},
   "outputs": [
    {
     "data": {
      "text/plain": [
       "array([ 2.02057288, -1.13406402,  0.09341885,  0.21740695,  0.46498311,\n",
       "       -0.11069236,  0.20563309,  0.10229992,  0.31734901, -0.07235602])"
      ]
     },
     "execution_count": 46,
     "metadata": {},
     "output_type": "execute_result"
    }
   ],
   "source": [
    "MLE_uh.x"
   ]
  },
  {
   "cell_type": "code",
   "execution_count": 50,
   "metadata": {},
   "outputs": [],
   "source": [
    "# standard errors: \n",
    "results = []\n",
    "for i in range(10):\n",
    "    Coef = round(MLE_uh.x[i],3)\n",
    "    SE = MLE_uh.hess_inv[i,i]**0.5\n",
    "    res = [Coef, SE]\n",
    "    results.append(res)\n",
    "\n",
    "parameters = [\"β_0\", \"β_1\", \"α1_type1\" ,\"α1_type2\" , \"α_2\", \"α_3\", \"η1_type1\", \"η1_type2\", \"η_2\", \"η_3\"]\n",
    "\n",
    "results = pd.DataFrame(results, parameters)\n",
    "\n",
    "\n",
    "results.columns = ['Coefficient', 'SE']"
   ]
  },
  {
   "cell_type": "code",
   "execution_count": 51,
   "metadata": {},
   "outputs": [
    {
     "data": {
      "text/html": [
       "<div>\n",
       "<style scoped>\n",
       "    .dataframe tbody tr th:only-of-type {\n",
       "        vertical-align: middle;\n",
       "    }\n",
       "\n",
       "    .dataframe tbody tr th {\n",
       "        vertical-align: top;\n",
       "    }\n",
       "\n",
       "    .dataframe thead th {\n",
       "        text-align: right;\n",
       "    }\n",
       "</style>\n",
       "<table border=\"1\" class=\"dataframe\">\n",
       "  <thead>\n",
       "    <tr style=\"text-align: right;\">\n",
       "      <th></th>\n",
       "      <th>Coefficient</th>\n",
       "      <th>SE</th>\n",
       "    </tr>\n",
       "  </thead>\n",
       "  <tbody>\n",
       "    <tr>\n",
       "      <th>β_0</th>\n",
       "      <td>2.021</td>\n",
       "      <td>0.158649</td>\n",
       "    </tr>\n",
       "    <tr>\n",
       "      <th>β_1</th>\n",
       "      <td>-1.134</td>\n",
       "      <td>0.088670</td>\n",
       "    </tr>\n",
       "    <tr>\n",
       "      <th>α1_type1</th>\n",
       "      <td>0.093</td>\n",
       "      <td>0.016932</td>\n",
       "    </tr>\n",
       "    <tr>\n",
       "      <th>α1_type2</th>\n",
       "      <td>0.217</td>\n",
       "      <td>0.025399</td>\n",
       "    </tr>\n",
       "    <tr>\n",
       "      <th>α_2</th>\n",
       "      <td>0.465</td>\n",
       "      <td>0.123387</td>\n",
       "    </tr>\n",
       "    <tr>\n",
       "      <th>α_3</th>\n",
       "      <td>-0.111</td>\n",
       "      <td>0.021708</td>\n",
       "    </tr>\n",
       "    <tr>\n",
       "      <th>η1_type1</th>\n",
       "      <td>0.206</td>\n",
       "      <td>0.021107</td>\n",
       "    </tr>\n",
       "    <tr>\n",
       "      <th>η1_type2</th>\n",
       "      <td>0.102</td>\n",
       "      <td>0.010729</td>\n",
       "    </tr>\n",
       "    <tr>\n",
       "      <th>η_2</th>\n",
       "      <td>0.317</td>\n",
       "      <td>0.158155</td>\n",
       "    </tr>\n",
       "    <tr>\n",
       "      <th>η_3</th>\n",
       "      <td>-0.072</td>\n",
       "      <td>0.023126</td>\n",
       "    </tr>\n",
       "  </tbody>\n",
       "</table>\n",
       "</div>"
      ],
      "text/plain": [
       "          Coefficient        SE\n",
       "β_0             2.021  0.158649\n",
       "β_1            -1.134  0.088670\n",
       "α1_type1        0.093  0.016932\n",
       "α1_type2        0.217  0.025399\n",
       "α_2             0.465  0.123387\n",
       "α_3            -0.111  0.021708\n",
       "η1_type1        0.206  0.021107\n",
       "η1_type2        0.102  0.010729\n",
       "η_2             0.317  0.158155\n",
       "η_3            -0.072  0.023126"
      ]
     },
     "execution_count": 51,
     "metadata": {},
     "output_type": "execute_result"
    }
   ],
   "source": [
    "results"
   ]
  },
  {
   "cell_type": "markdown",
   "metadata": {},
   "source": [
    "Comments:\n",
    "+ Type 2 is managerial type and type 1 is blue collar oriented type\n",
    "+ Unobserved heterogeneity seems to be important because \\alpha_1_t1 is half as large as \\alpha_1_t2\n",
    "+ When we account for unobserved heterogeneity, returns to experience in WC and BC are lower. This is probably because each type had more experience in their specific occupation, so returns to schooling in different occupations was confounding with experience in each occupation. "
   ]
  },
  {
   "cell_type": "markdown",
   "metadata": {},
   "source": [
    "## Predicted probabilities\n"
   ]
  },
  {
   "cell_type": "code",
   "execution_count": 308,
   "metadata": {},
   "outputs": [],
   "source": [
    "## Predicted probabilities without unobserved heterogeneity\n",
    "\n",
    "def pred_p(params, df):\n",
    "    \n",
    "    Beta0, Beta1, alpha1, alpha2, alpha3, eta1, eta2, eta3 = params\n",
    "\n",
    "    Beta= np.array([Beta0, Beta1])\n",
    "    alpha = np.array([alpha1, alpha2, alpha3])\n",
    "    Eta = np.array([eta1,eta2,eta3])\n",
    "\n",
    "    pred_prob = []\n",
    "\n",
    "    functions = [EMax_A, EMax_A_1 , EMax_A_2, EMax_A_3, EMax_A_4, EMax_A_5, EMax_A_6, EMax_A_7, EMax_A_8, V_A_9]\n",
    "\n",
    "    for i in range(len(functions)):\n",
    "\n",
    "        ga = np.array(df.loc[df.age == 10 - i,'g_a']).reshape(1,Nind)\n",
    "        xb = np.array(df.loc[df.age == 10 - i,'x_b']).reshape(1,Nind)\n",
    "        xw = np.array(df.loc[df.age == 10 - i,'x_w']).reshape(1,Nind)\n",
    "\n",
    "        # numerator\n",
    "        Num = np.array(np.concatenate(functions[i](ga, xb , xw , Beta, alpha, Eta )[1:4])).T # Nind * 3\n",
    "        # denominator\n",
    "        Denom = np.array(np.concatenate(functions[i](ga, xb , xw , Beta, alpha, Eta )[1:4])).T # Nind * 3\n",
    "        # probabiility of decision at age a\n",
    "        prob = [np.exp(Num[:,0])/np.sum(np.exp(Denom), axis = 1),\n",
    "                np.exp(Num[:,1])/np.sum(np.exp(Denom), axis = 1),\n",
    "                np.exp(Num[:,2])/np.sum(np.exp(Denom), axis = 1)] # Nind x 3 \n",
    "\n",
    "        mean_prob = np.mean(prob, axis = 1) # 1 x 3\n",
    "\n",
    "        pred_prob.append([mean_prob])\n",
    "\n",
    "    \n",
    "    return pred_prob"
   ]
  },
  {
   "cell_type": "code",
   "execution_count": 309,
   "metadata": {},
   "outputs": [
    {
     "data": {
      "text/plain": [
       "[[array([0.15354873, 0.41973244, 0.42671883])],\n",
       " [array([0.1759541 , 0.40973222, 0.41431369])],\n",
       " [array([0.194215  , 0.40328404, 0.40250096])],\n",
       " [array([0.21773206, 0.39365354, 0.38861439])],\n",
       " [array([0.24531575, 0.37777644, 0.37690781])],\n",
       " [array([0.27881083, 0.3597579 , 0.36143126])],\n",
       " [array([0.31870368, 0.33912551, 0.34217081])],\n",
       " [array([0.36399902, 0.31565796, 0.32034302])],\n",
       " [array([0.41478624, 0.2912104 , 0.29400336])],\n",
       " [array([0.46755604, 0.26604402, 0.26639995])]]"
      ]
     },
     "execution_count": 309,
     "metadata": {},
     "output_type": "execute_result"
    }
   ],
   "source": [
    "pred_p(MLE.x, df) # looks good!"
   ]
  },
  {
   "cell_type": "code",
   "execution_count": 310,
   "metadata": {},
   "outputs": [],
   "source": [
    "pred1 = pd.DataFrame(np.concatenate(pred_p(MLE.x, df)))"
   ]
  },
  {
   "cell_type": "code",
   "execution_count": 294,
   "metadata": {},
   "outputs": [],
   "source": [
    "## Predicted probabilities WITH unobserved heterogeneity\n",
    "\n",
    "def pred_p_uh(params, df): # definir los argumentos\n",
    "    \n",
    "    Beta0, Beta1, alpha1_v1, alpha1_v2, alpha2, alpha3, eta1_v1, eta1_v2, eta2, eta3 = params\n",
    "\n",
    "    Beta= np.array([Beta0, Beta1])\n",
    "    alpha_v1 = np.array([alpha1_v1, alpha2, alpha3])\n",
    "    Eta_v1 = np.array([eta1_v1,eta2,eta3])\n",
    "    alpha_v2 = np.array([alpha1_v2, alpha2, alpha3])\n",
    "    Eta_v2 = np.array([eta1_v2,eta2,eta3])\n",
    "\n",
    "    pred_prob = []\n",
    "\n",
    "    functions = [EMax_A, EMax_A_1 , EMax_A_2, EMax_A_3, EMax_A_4, EMax_A_5, EMax_A_6, EMax_A_7, EMax_A_8, V_A_9]\n",
    "\n",
    "    for i in range(len(functions)):\n",
    "\n",
    "        ga = np.array(df.loc[df.age == 10 - i,'g_a']).reshape(1,Nind)\n",
    "        xb = np.array(df.loc[df.age == 10 - i,'x_b']).reshape(1,Nind)\n",
    "        xw = np.array(df.loc[df.age == 10 - i,'x_w']).reshape(1,Nind)\n",
    "\n",
    "        # Type 1\n",
    "        Num = np.array(np.concatenate(functions[i](ga, xb , xw , Beta, alpha_v1, Eta_v1 )[1:4])).T # Nind * 3\n",
    "        Denom = np.array(np.concatenate(functions[i](ga, xb , xw , Beta, alpha_v1, Eta_v1 )[1:4])).T # Nind * 3\n",
    "        # probabiility of decision at age a\n",
    "        prob_v1 = [np.exp(Num[:,0])/np.sum(np.exp(Denom), axis = 1),\n",
    "                   np.exp(Num[:,1])/np.sum(np.exp(Denom), axis = 1),\n",
    "                   np.exp(Num[:,2])/np.sum(np.exp(Denom), axis = 1)] # Nind x 3 \n",
    "\n",
    "        # Type 2\n",
    "        Num_v2 = np.array(np.concatenate(functions[i](ga, xb , xw , Beta, alpha_v2, Eta_v2 )[1:4])).T # Nind * 3\n",
    "        Denom_v2 = np.array(np.concatenate(functions[i](ga, xb , xw , Beta, alpha_v2, Eta_v2 )[1:4])).T # Nind * 3\n",
    "        # probabiility of decision at age a\n",
    "        prob_v2 = [np.exp(Num_v2[:,0])/np.sum(np.exp(Denom_v2), axis = 1),\n",
    "                   np.exp(Num_v2[:,1])/np.sum(np.exp(Denom_v2), axis = 1),\n",
    "                   np.exp(Num_v2[:,2])/np.sum(np.exp(Denom_v2), axis = 1)] # Nind x 3 \n",
    "\n",
    "        prob = [(prob_v1[0] + prob_v2[0])/2, (prob_v1[1] + prob_v2[1])/2, (prob_v1[2] + prob_v2[2])/2]\n",
    "\n",
    "        mean_prob = np.mean(prob, axis = 1) # 1 x 3\n",
    "\n",
    "        pred_prob.append([mean_prob])\n",
    "\n",
    "     \n",
    "    return pred_prob\n"
   ]
  },
  {
   "cell_type": "code",
   "execution_count": 302,
   "metadata": {},
   "outputs": [],
   "source": [
    "pred2 = pd.DataFrame(np.concatenate(pred_p_uh(MLE_uh.x, df))) # looks good!"
   ]
  },
  {
   "cell_type": "code",
   "execution_count": 327,
   "metadata": {},
   "outputs": [],
   "source": [
    "pred1.columns = ['School', 'WC', 'BC']\n",
    "pred2.columns = ['School', 'WC', 'BC']"
   ]
  },
  {
   "cell_type": "markdown",
   "metadata": {},
   "source": [
    "## Model vs data"
   ]
  },
  {
   "cell_type": "code",
   "execution_count": 337,
   "metadata": {},
   "outputs": [
    {
     "data": {
      "text/plain": [
       "<matplotlib.legend.Legend at 0x7fdee8862370>"
      ]
     },
     "execution_count": 337,
     "metadata": {},
     "output_type": "execute_result"
    },
    {
     "data": {
      "image/png": "[encoded data removed]",
      "text/plain": [
       "<Figure size 432x288 with 1 Axes>"
      ]
     },
     "metadata": {
      "needs_background": "light"
     },
     "output_type": "display_data"
    }
   ],
   "source": [
    "# Schooling\n",
    "\n",
    "fig, ax = plt.subplots()\n",
    "\n",
    "ax.plot(table_1_mean['Age'], table_1_mean['School'])\n",
    "ax.plot(11 - table_1_mean['Age'], pred1['School'])\n",
    "ax.plot(11-table_1_mean['Age'], pred2['School'])\n",
    "\n",
    "ax.set_title('Schooling decision by age: Model vs data')\n",
    "ax.set_xlabel('Age', fontsize = 10)\n",
    "ax.set_ylabel('Percent', fontsize = 10)\n",
    "\n",
    "\n",
    "ax.legend(['Data', 'Model no uh', 'Model with uh'], frameon = False)"
   ]
  },
  {
   "cell_type": "markdown",
   "metadata": {},
   "source": [
    "Comments:\n",
    "+ Both models perform very similarly here. Predict data quite well"
   ]
  },
  {
   "cell_type": "code",
   "execution_count": 336,
   "metadata": {},
   "outputs": [
    {
     "data": {
      "text/plain": [
       "<matplotlib.legend.Legend at 0x7fde884f3310>"
      ]
     },
     "execution_count": 336,
     "metadata": {},
     "output_type": "execute_result"
    },
    {
     "data": {
      "image/png": "[encoded data removed]",
      "text/plain": [
       "<Figure size 432x288 with 1 Axes>"
      ]
     },
     "metadata": {
      "needs_background": "light"
     },
     "output_type": "display_data"
    }
   ],
   "source": [
    "# White collar\n",
    "\n",
    "fig, ax = plt.subplots()\n",
    "\n",
    "ax.plot(table_1_mean['Age'], table_1_mean['White_collar'])\n",
    "ax.plot(11 - table_1_mean['Age'], pred1['WC'])\n",
    "ax.plot(11-table_1_mean['Age'], pred2['WC'])\n",
    "\n",
    "ax.set_title('WC decision by age: Model vs data')\n",
    "ax.set_xlabel('Age', fontsize = 10)\n",
    "ax.set_ylabel('Percent', fontsize = 10)\n",
    "\n",
    "\n",
    "ax.legend(['Data', 'Model no uh', 'Model with uh'], frameon = False)"
   ]
  },
  {
   "cell_type": "markdown",
   "metadata": {},
   "source": [
    "Comments\n",
    "+ Model with UH predicts more pronounced WC decision increase at higher age. This is probably because managerial type gets more years of education before entering WC jobs because they have more returns to schooling for WC occupations. "
   ]
  },
  {
   "cell_type": "code",
   "execution_count": 339,
   "metadata": {},
   "outputs": [
    {
     "data": {
      "text/plain": [
       "<matplotlib.legend.Legend at 0x7fdec963c310>"
      ]
     },
     "execution_count": 339,
     "metadata": {},
     "output_type": "execute_result"
    },
    {
     "data": {
      "image/png": "[encoded data removed]",
      "text/plain": [
       "<Figure size 432x288 with 1 Axes>"
      ]
     },
     "metadata": {
      "needs_background": "light"
     },
     "output_type": "display_data"
    }
   ],
   "source": [
    "# Blue collar\n",
    "\n",
    "fig, ax = plt.subplots()\n",
    "\n",
    "ax.plot(table_1_mean['Age'], table_1_mean['Blue_collar'])\n",
    "ax.plot(11 - table_1_mean['Age'], pred1['BC'])\n",
    "ax.plot(11-table_1_mean['Age'], pred2['BC'])\n",
    "\n",
    "ax.set_title('BC decision my age: Model vs data')\n",
    "ax.set_xlabel('Age', fontsize = 10)\n",
    "ax.set_ylabel('Percent', fontsize = 10)\n",
    "\n",
    "\n",
    "ax.legend(['Data', 'Model no uh', 'Model with uh'], frameon = False)"
   ]
  },
  {
   "cell_type": "markdown",
   "metadata": {},
   "source": [
    "Comments:\n",
    "+ Both models perform very similarly\n",
    "+ Both models fail to predict concave form of BC decision at high ages"
   ]
  }
 ],
 "metadata": {
  "interpreter": {
   "hash": "38cca0c38332a56087b24af0bc80247f4fced29cb4f7f437d91dc159adec9c4e"
  },
  "kernelspec": {
   "display_name": "Python 3.8.8 64-bit ('base': conda)",
   "language": "python",
   "name": "python3"
  },
  "language_info": {
   "codemirror_mode": {
    "name": "ipython",
    "version": 3
   },
   "file_extension": ".py",
   "mimetype": "text/x-python",
   "name": "python",
   "nbconvert_exporter": "python",
   "pygments_lexer": "ipython3",
   "version": "3.8.8"
  },
  "orig_nbformat": 4
 },
 "nbformat": 4,
 "nbformat_minor": 2
}
